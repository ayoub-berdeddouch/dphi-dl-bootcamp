{
  "nbformat": 4,
  "nbformat_minor": 0,
  "metadata": {
    "kernelspec": {
      "display_name": "Python 3",
      "language": "python",
      "name": "python3"
    },
    "language_info": {
      "codemirror_mode": {
        "name": "ipython",
        "version": 3
      },
      "file_extension": ".py",
      "mimetype": "text/x-python",
      "name": "python",
      "nbconvert_exporter": "python",
      "pygments_lexer": "ipython3",
      "version": "3.6.7"
    },
    "toc": {
      "base_numbering": 1,
      "nav_menu": {},
      "number_sections": true,
      "sideBar": true,
      "skip_h1_title": false,
      "title_cell": "Table of Contents",
      "title_sidebar": "Contents",
      "toc_cell": false,
      "toc_position": {},
      "toc_section_display": true,
      "toc_window_display": false
    },
    "colab": {
      "name": "Datathon_FaceMaskDetection_ModelTestColab.ipynb",
      "provenance": [],
      "collapsed_sections": []
    },
    "accelerator": "GPU",
    "widgets": {
      "application/vnd.jupyter.widget-state+json": {
        "9bed0d70cdfc4063967c9633b149e5fa": {
          "model_module": "@jupyter-widgets/controls",
          "model_name": "HBoxModel",
          "state": {
            "_view_name": "HBoxView",
            "_dom_classes": [],
            "_model_name": "HBoxModel",
            "_view_module": "@jupyter-widgets/controls",
            "_model_module_version": "1.5.0",
            "_view_count": null,
            "_view_module_version": "1.5.0",
            "box_style": "",
            "layout": "IPY_MODEL_e5356f59fbe449aa8362f9a826e06354",
            "_model_module": "@jupyter-widgets/controls",
            "children": [
              "IPY_MODEL_b723aab402a94149924674eecdfd548c",
              "IPY_MODEL_0877931fba004704b6ff7c0aa6f0d876"
            ]
          }
        },
        "e5356f59fbe449aa8362f9a826e06354": {
          "model_module": "@jupyter-widgets/base",
          "model_name": "LayoutModel",
          "state": {
            "_view_name": "LayoutView",
            "grid_template_rows": null,
            "right": null,
            "justify_content": null,
            "_view_module": "@jupyter-widgets/base",
            "overflow": null,
            "_model_module_version": "1.2.0",
            "_view_count": null,
            "flex_flow": null,
            "width": null,
            "min_width": null,
            "border": null,
            "align_items": null,
            "bottom": null,
            "_model_module": "@jupyter-widgets/base",
            "top": null,
            "grid_column": null,
            "overflow_y": null,
            "overflow_x": null,
            "grid_auto_flow": null,
            "grid_area": null,
            "grid_template_columns": null,
            "flex": null,
            "_model_name": "LayoutModel",
            "justify_items": null,
            "grid_row": null,
            "max_height": null,
            "align_content": null,
            "visibility": null,
            "align_self": null,
            "height": null,
            "min_height": null,
            "padding": null,
            "grid_auto_rows": null,
            "grid_gap": null,
            "max_width": null,
            "order": null,
            "_view_module_version": "1.2.0",
            "grid_template_areas": null,
            "object_position": null,
            "object_fit": null,
            "grid_auto_columns": null,
            "margin": null,
            "display": null,
            "left": null
          }
        },
        "b723aab402a94149924674eecdfd548c": {
          "model_module": "@jupyter-widgets/controls",
          "model_name": "FloatProgressModel",
          "state": {
            "_view_name": "ProgressView",
            "style": "IPY_MODEL_6b2460fba9964c50bdb30a64d726f4a4",
            "_dom_classes": [],
            "description": "100%",
            "_model_name": "FloatProgressModel",
            "bar_style": "success",
            "max": 1536,
            "_view_module": "@jupyter-widgets/controls",
            "_model_module_version": "1.5.0",
            "value": 1536,
            "_view_count": null,
            "_view_module_version": "1.5.0",
            "orientation": "horizontal",
            "min": 0,
            "description_tooltip": null,
            "_model_module": "@jupyter-widgets/controls",
            "layout": "IPY_MODEL_81adcf9be6bb4ff7ba418fc786a2c9a1"
          }
        },
        "0877931fba004704b6ff7c0aa6f0d876": {
          "model_module": "@jupyter-widgets/controls",
          "model_name": "HTMLModel",
          "state": {
            "_view_name": "HTMLView",
            "style": "IPY_MODEL_7a2e6a17df434e30848e00ab1c5526e0",
            "_dom_classes": [],
            "description": "",
            "_model_name": "HTMLModel",
            "placeholder": "​",
            "_view_module": "@jupyter-widgets/controls",
            "_model_module_version": "1.5.0",
            "value": " 1536/1536 [00:02&lt;00:00, 524.83it/s]",
            "_view_count": null,
            "_view_module_version": "1.5.0",
            "description_tooltip": null,
            "_model_module": "@jupyter-widgets/controls",
            "layout": "IPY_MODEL_e6c3a7aceca94a398a3997bd465f9f5c"
          }
        },
        "6b2460fba9964c50bdb30a64d726f4a4": {
          "model_module": "@jupyter-widgets/controls",
          "model_name": "ProgressStyleModel",
          "state": {
            "_view_name": "StyleView",
            "_model_name": "ProgressStyleModel",
            "description_width": "initial",
            "_view_module": "@jupyter-widgets/base",
            "_model_module_version": "1.5.0",
            "_view_count": null,
            "_view_module_version": "1.2.0",
            "bar_color": null,
            "_model_module": "@jupyter-widgets/controls"
          }
        },
        "81adcf9be6bb4ff7ba418fc786a2c9a1": {
          "model_module": "@jupyter-widgets/base",
          "model_name": "LayoutModel",
          "state": {
            "_view_name": "LayoutView",
            "grid_template_rows": null,
            "right": null,
            "justify_content": null,
            "_view_module": "@jupyter-widgets/base",
            "overflow": null,
            "_model_module_version": "1.2.0",
            "_view_count": null,
            "flex_flow": null,
            "width": null,
            "min_width": null,
            "border": null,
            "align_items": null,
            "bottom": null,
            "_model_module": "@jupyter-widgets/base",
            "top": null,
            "grid_column": null,
            "overflow_y": null,
            "overflow_x": null,
            "grid_auto_flow": null,
            "grid_area": null,
            "grid_template_columns": null,
            "flex": null,
            "_model_name": "LayoutModel",
            "justify_items": null,
            "grid_row": null,
            "max_height": null,
            "align_content": null,
            "visibility": null,
            "align_self": null,
            "height": null,
            "min_height": null,
            "padding": null,
            "grid_auto_rows": null,
            "grid_gap": null,
            "max_width": null,
            "order": null,
            "_view_module_version": "1.2.0",
            "grid_template_areas": null,
            "object_position": null,
            "object_fit": null,
            "grid_auto_columns": null,
            "margin": null,
            "display": null,
            "left": null
          }
        },
        "7a2e6a17df434e30848e00ab1c5526e0": {
          "model_module": "@jupyter-widgets/controls",
          "model_name": "DescriptionStyleModel",
          "state": {
            "_view_name": "StyleView",
            "_model_name": "DescriptionStyleModel",
            "description_width": "",
            "_view_module": "@jupyter-widgets/base",
            "_model_module_version": "1.5.0",
            "_view_count": null,
            "_view_module_version": "1.2.0",
            "_model_module": "@jupyter-widgets/controls"
          }
        },
        "e6c3a7aceca94a398a3997bd465f9f5c": {
          "model_module": "@jupyter-widgets/base",
          "model_name": "LayoutModel",
          "state": {
            "_view_name": "LayoutView",
            "grid_template_rows": null,
            "right": null,
            "justify_content": null,
            "_view_module": "@jupyter-widgets/base",
            "overflow": null,
            "_model_module_version": "1.2.0",
            "_view_count": null,
            "flex_flow": null,
            "width": null,
            "min_width": null,
            "border": null,
            "align_items": null,
            "bottom": null,
            "_model_module": "@jupyter-widgets/base",
            "top": null,
            "grid_column": null,
            "overflow_y": null,
            "overflow_x": null,
            "grid_auto_flow": null,
            "grid_area": null,
            "grid_template_columns": null,
            "flex": null,
            "_model_name": "LayoutModel",
            "justify_items": null,
            "grid_row": null,
            "max_height": null,
            "align_content": null,
            "visibility": null,
            "align_self": null,
            "height": null,
            "min_height": null,
            "padding": null,
            "grid_auto_rows": null,
            "grid_gap": null,
            "max_width": null,
            "order": null,
            "_view_module_version": "1.2.0",
            "grid_template_areas": null,
            "object_position": null,
            "object_fit": null,
            "grid_auto_columns": null,
            "margin": null,
            "display": null,
            "left": null
          }
        }
      }
    }
  },
  "cells": [
    {
      "cell_type": "code",
      "metadata": {
        "ExecuteTime": {
          "end_time": "2020-09-13T17:01:25.809355Z",
          "start_time": "2020-09-13T17:01:10.058873Z"
        },
        "id": "g8XM_GL7c0zF",
        "colab_type": "code",
        "colab": {}
      },
      "source": [
        "# import the necessary packages\n",
        "import os\n",
        "import cv2\n",
        "\n",
        "import numpy as np\n",
        "import pandas as pd\n",
        "import matplotlib.pyplot as plt\n",
        "\n",
        "from tqdm import tqdm_notebook as tqdm\n",
        "from tensorflow.keras.models import load_model\n"
      ],
      "execution_count": 1,
      "outputs": []
    },
    {
      "cell_type": "code",
      "metadata": {
        "id": "TNXfDDbzc0ze",
        "colab_type": "code",
        "colab": {
          "base_uri": "https://localhost:8080/",
          "height": 51
        },
        "outputId": "78e40079-6f14-44e4-ed14-0ad99ffe2a05"
      },
      "source": [
        "from google_drive_downloader import GoogleDriveDownloader as gdd\n",
        "\n",
        "gdd.download_file_from_google_drive(file_id='1_W2gFFZmy6ZyC8TPlxB49eDFswdBsQqo',\n",
        "                                    dest_path='content/face_mask_detection.zip',\n",
        "                                    unzip=True)"
      ],
      "execution_count": 2,
      "outputs": [
        {
          "output_type": "stream",
          "text": [
            "Downloading 1_W2gFFZmy6ZyC8TPlxB49eDFswdBsQqo into content/face_mask_detection.zip... Done.\n",
            "Unzipping...Done.\n"
          ],
          "name": "stdout"
        }
      ]
    },
    {
      "cell_type": "code",
      "metadata": {
        "ExecuteTime": {
          "end_time": "2020-09-13T17:02:24.905296Z",
          "start_time": "2020-09-13T17:02:24.816248Z"
        },
        "id": "frbi2Txlc0zs",
        "colab_type": "code",
        "colab": {
          "base_uri": "https://localhost:8080/",
          "height": 204
        },
        "outputId": "d40e9992-d987-46d7-ca13-8035878a39aa"
      },
      "source": [
        "# Loading the order of the image's name that has been provided\n",
        "\n",
        "#test_image_order = pd.read_csv(\"./face_mask_detection/Testing_set_face_mask.csv\")\n",
        "\n",
        "test_image_order = pd.read_csv(\"/content/content/face_mask_detection/Testing_set_face_mask.csv\")\n",
        "test_image_order.head()\n"
      ],
      "execution_count": 3,
      "outputs": [
        {
          "output_type": "execute_result",
          "data": {
            "text/html": [
              "<div>\n",
              "<style scoped>\n",
              "    .dataframe tbody tr th:only-of-type {\n",
              "        vertical-align: middle;\n",
              "    }\n",
              "\n",
              "    .dataframe tbody tr th {\n",
              "        vertical-align: top;\n",
              "    }\n",
              "\n",
              "    .dataframe thead th {\n",
              "        text-align: right;\n",
              "    }\n",
              "</style>\n",
              "<table border=\"1\" class=\"dataframe\">\n",
              "  <thead>\n",
              "    <tr style=\"text-align: right;\">\n",
              "      <th></th>\n",
              "      <th>filename</th>\n",
              "      <th>label</th>\n",
              "    </tr>\n",
              "  </thead>\n",
              "  <tbody>\n",
              "    <tr>\n",
              "      <th>0</th>\n",
              "      <td>Image_1.jpg</td>\n",
              "      <td>NaN</td>\n",
              "    </tr>\n",
              "    <tr>\n",
              "      <th>1</th>\n",
              "      <td>Image_2.jpg</td>\n",
              "      <td>NaN</td>\n",
              "    </tr>\n",
              "    <tr>\n",
              "      <th>2</th>\n",
              "      <td>Image_3.jpg</td>\n",
              "      <td>NaN</td>\n",
              "    </tr>\n",
              "    <tr>\n",
              "      <th>3</th>\n",
              "      <td>Image_4.jpg</td>\n",
              "      <td>NaN</td>\n",
              "    </tr>\n",
              "    <tr>\n",
              "      <th>4</th>\n",
              "      <td>Image_5.jpg</td>\n",
              "      <td>NaN</td>\n",
              "    </tr>\n",
              "  </tbody>\n",
              "</table>\n",
              "</div>"
            ],
            "text/plain": [
              "      filename  label\n",
              "0  Image_1.jpg    NaN\n",
              "1  Image_2.jpg    NaN\n",
              "2  Image_3.jpg    NaN\n",
              "3  Image_4.jpg    NaN\n",
              "4  Image_5.jpg    NaN"
            ]
          },
          "metadata": {
            "tags": []
          },
          "execution_count": 3
        }
      ]
    },
    {
      "cell_type": "code",
      "metadata": {
        "ExecuteTime": {
          "end_time": "2020-09-13T17:02:56.312815Z",
          "start_time": "2020-09-13T17:02:56.301916Z"
        },
        "id": "Kx04c3p3c0z9",
        "colab_type": "code",
        "colab": {}
      },
      "source": [
        "file_paths = [[fname, '/content/content/face_mask_detection/test/' + fname] for fname in test_image_order['filename']]\n"
      ],
      "execution_count": 4,
      "outputs": []
    },
    {
      "cell_type": "code",
      "metadata": {
        "ExecuteTime": {
          "end_time": "2020-09-13T17:03:07.010563Z",
          "start_time": "2020-09-13T17:03:06.990586Z"
        },
        "id": "3jBASNEbc00K",
        "colab_type": "code",
        "colab": {
          "base_uri": "https://localhost:8080/",
          "height": 34
        },
        "outputId": "45ca290f-f8d5-49cd-c7a8-f2c160356e77"
      },
      "source": [
        "# Confirm if number of images is same as number of labels given\n",
        "if len(test_image_order) == len(file_paths):\n",
        "    print('Number of image names i.e. ', len(test_image_order), 'matches the number of file paths i.e. ', len(file_paths))\n",
        "else:\n",
        "    print('Number of image names does not match the number of filepaths')"
      ],
      "execution_count": 5,
      "outputs": [
        {
          "output_type": "stream",
          "text": [
            "Number of image names i.e.  1536 matches the number of file paths i.e.  1536\n"
          ],
          "name": "stdout"
        }
      ]
    },
    {
      "cell_type": "code",
      "metadata": {
        "ExecuteTime": {
          "end_time": "2020-09-13T17:03:25.194663Z",
          "start_time": "2020-09-13T17:03:25.171462Z"
        },
        "id": "RB_l-E21c00Y",
        "colab_type": "code",
        "colab": {
          "base_uri": "https://localhost:8080/",
          "height": 204
        },
        "outputId": "43268b83-fdc9-4ce8-adca-f7105171dc53"
      },
      "source": [
        "# Converting the file_paths to dataframe\n",
        "test_images = pd.DataFrame(file_paths, columns=['filename', 'filepaths'])\n",
        "test_images.head()"
      ],
      "execution_count": 6,
      "outputs": [
        {
          "output_type": "execute_result",
          "data": {
            "text/html": [
              "<div>\n",
              "<style scoped>\n",
              "    .dataframe tbody tr th:only-of-type {\n",
              "        vertical-align: middle;\n",
              "    }\n",
              "\n",
              "    .dataframe tbody tr th {\n",
              "        vertical-align: top;\n",
              "    }\n",
              "\n",
              "    .dataframe thead th {\n",
              "        text-align: right;\n",
              "    }\n",
              "</style>\n",
              "<table border=\"1\" class=\"dataframe\">\n",
              "  <thead>\n",
              "    <tr style=\"text-align: right;\">\n",
              "      <th></th>\n",
              "      <th>filename</th>\n",
              "      <th>filepaths</th>\n",
              "    </tr>\n",
              "  </thead>\n",
              "  <tbody>\n",
              "    <tr>\n",
              "      <th>0</th>\n",
              "      <td>Image_1.jpg</td>\n",
              "      <td>/content/content/face_mask_detection/test/Imag...</td>\n",
              "    </tr>\n",
              "    <tr>\n",
              "      <th>1</th>\n",
              "      <td>Image_2.jpg</td>\n",
              "      <td>/content/content/face_mask_detection/test/Imag...</td>\n",
              "    </tr>\n",
              "    <tr>\n",
              "      <th>2</th>\n",
              "      <td>Image_3.jpg</td>\n",
              "      <td>/content/content/face_mask_detection/test/Imag...</td>\n",
              "    </tr>\n",
              "    <tr>\n",
              "      <th>3</th>\n",
              "      <td>Image_4.jpg</td>\n",
              "      <td>/content/content/face_mask_detection/test/Imag...</td>\n",
              "    </tr>\n",
              "    <tr>\n",
              "      <th>4</th>\n",
              "      <td>Image_5.jpg</td>\n",
              "      <td>/content/content/face_mask_detection/test/Imag...</td>\n",
              "    </tr>\n",
              "  </tbody>\n",
              "</table>\n",
              "</div>"
            ],
            "text/plain": [
              "      filename                                          filepaths\n",
              "0  Image_1.jpg  /content/content/face_mask_detection/test/Imag...\n",
              "1  Image_2.jpg  /content/content/face_mask_detection/test/Imag...\n",
              "2  Image_3.jpg  /content/content/face_mask_detection/test/Imag...\n",
              "3  Image_4.jpg  /content/content/face_mask_detection/test/Imag...\n",
              "4  Image_5.jpg  /content/content/face_mask_detection/test/Imag..."
            ]
          },
          "metadata": {
            "tags": []
          },
          "execution_count": 6
        }
      ]
    },
    {
      "cell_type": "code",
      "metadata": {
        "ExecuteTime": {
          "end_time": "2020-09-13T17:03:50.520125Z",
          "start_time": "2020-09-13T17:03:50.451647Z"
        },
        "id": "ZYzB4XqHc00t",
        "colab_type": "code",
        "colab": {
          "base_uri": "https://localhost:8080/",
          "height": 204
        },
        "outputId": "f3ddfc03-5fa7-416c-aff8-af3eb0765c7e"
      },
      "source": [
        "test_data = pd.merge(test_images, test_image_order, how = 'inner', on = 'filename')\n",
        "test_data.head()   "
      ],
      "execution_count": 7,
      "outputs": [
        {
          "output_type": "execute_result",
          "data": {
            "text/html": [
              "<div>\n",
              "<style scoped>\n",
              "    .dataframe tbody tr th:only-of-type {\n",
              "        vertical-align: middle;\n",
              "    }\n",
              "\n",
              "    .dataframe tbody tr th {\n",
              "        vertical-align: top;\n",
              "    }\n",
              "\n",
              "    .dataframe thead th {\n",
              "        text-align: right;\n",
              "    }\n",
              "</style>\n",
              "<table border=\"1\" class=\"dataframe\">\n",
              "  <thead>\n",
              "    <tr style=\"text-align: right;\">\n",
              "      <th></th>\n",
              "      <th>filename</th>\n",
              "      <th>filepaths</th>\n",
              "      <th>label</th>\n",
              "    </tr>\n",
              "  </thead>\n",
              "  <tbody>\n",
              "    <tr>\n",
              "      <th>0</th>\n",
              "      <td>Image_1.jpg</td>\n",
              "      <td>/content/content/face_mask_detection/test/Imag...</td>\n",
              "      <td>NaN</td>\n",
              "    </tr>\n",
              "    <tr>\n",
              "      <th>1</th>\n",
              "      <td>Image_2.jpg</td>\n",
              "      <td>/content/content/face_mask_detection/test/Imag...</td>\n",
              "      <td>NaN</td>\n",
              "    </tr>\n",
              "    <tr>\n",
              "      <th>2</th>\n",
              "      <td>Image_3.jpg</td>\n",
              "      <td>/content/content/face_mask_detection/test/Imag...</td>\n",
              "      <td>NaN</td>\n",
              "    </tr>\n",
              "    <tr>\n",
              "      <th>3</th>\n",
              "      <td>Image_4.jpg</td>\n",
              "      <td>/content/content/face_mask_detection/test/Imag...</td>\n",
              "      <td>NaN</td>\n",
              "    </tr>\n",
              "    <tr>\n",
              "      <th>4</th>\n",
              "      <td>Image_5.jpg</td>\n",
              "      <td>/content/content/face_mask_detection/test/Imag...</td>\n",
              "      <td>NaN</td>\n",
              "    </tr>\n",
              "  </tbody>\n",
              "</table>\n",
              "</div>"
            ],
            "text/plain": [
              "      filename                                          filepaths  label\n",
              "0  Image_1.jpg  /content/content/face_mask_detection/test/Imag...    NaN\n",
              "1  Image_2.jpg  /content/content/face_mask_detection/test/Imag...    NaN\n",
              "2  Image_3.jpg  /content/content/face_mask_detection/test/Imag...    NaN\n",
              "3  Image_4.jpg  /content/content/face_mask_detection/test/Imag...    NaN\n",
              "4  Image_5.jpg  /content/content/face_mask_detection/test/Imag...    NaN"
            ]
          },
          "metadata": {
            "tags": []
          },
          "execution_count": 7
        }
      ]
    },
    {
      "cell_type": "code",
      "metadata": {
        "ExecuteTime": {
          "end_time": "2020-09-13T17:04:21.524563Z",
          "start_time": "2020-09-13T17:04:21.513824Z"
        },
        "id": "sGMxvp6Sc01B",
        "colab_type": "code",
        "colab": {}
      },
      "source": [
        "test_data.drop('label', axis = 1, inplace=True)"
      ],
      "execution_count": 8,
      "outputs": []
    },
    {
      "cell_type": "code",
      "metadata": {
        "ExecuteTime": {
          "end_time": "2020-09-13T17:04:27.430805Z",
          "start_time": "2020-09-13T17:04:27.413495Z"
        },
        "id": "fR2Q4Qrpc01R",
        "colab_type": "code",
        "colab": {
          "base_uri": "https://localhost:8080/",
          "height": 204
        },
        "outputId": "b4439dc3-f97a-4111-f7fc-35aada4fd07e"
      },
      "source": [
        "test_data.head()"
      ],
      "execution_count": 9,
      "outputs": [
        {
          "output_type": "execute_result",
          "data": {
            "text/html": [
              "<div>\n",
              "<style scoped>\n",
              "    .dataframe tbody tr th:only-of-type {\n",
              "        vertical-align: middle;\n",
              "    }\n",
              "\n",
              "    .dataframe tbody tr th {\n",
              "        vertical-align: top;\n",
              "    }\n",
              "\n",
              "    .dataframe thead th {\n",
              "        text-align: right;\n",
              "    }\n",
              "</style>\n",
              "<table border=\"1\" class=\"dataframe\">\n",
              "  <thead>\n",
              "    <tr style=\"text-align: right;\">\n",
              "      <th></th>\n",
              "      <th>filename</th>\n",
              "      <th>filepaths</th>\n",
              "    </tr>\n",
              "  </thead>\n",
              "  <tbody>\n",
              "    <tr>\n",
              "      <th>0</th>\n",
              "      <td>Image_1.jpg</td>\n",
              "      <td>/content/content/face_mask_detection/test/Imag...</td>\n",
              "    </tr>\n",
              "    <tr>\n",
              "      <th>1</th>\n",
              "      <td>Image_2.jpg</td>\n",
              "      <td>/content/content/face_mask_detection/test/Imag...</td>\n",
              "    </tr>\n",
              "    <tr>\n",
              "      <th>2</th>\n",
              "      <td>Image_3.jpg</td>\n",
              "      <td>/content/content/face_mask_detection/test/Imag...</td>\n",
              "    </tr>\n",
              "    <tr>\n",
              "      <th>3</th>\n",
              "      <td>Image_4.jpg</td>\n",
              "      <td>/content/content/face_mask_detection/test/Imag...</td>\n",
              "    </tr>\n",
              "    <tr>\n",
              "      <th>4</th>\n",
              "      <td>Image_5.jpg</td>\n",
              "      <td>/content/content/face_mask_detection/test/Imag...</td>\n",
              "    </tr>\n",
              "  </tbody>\n",
              "</table>\n",
              "</div>"
            ],
            "text/plain": [
              "      filename                                          filepaths\n",
              "0  Image_1.jpg  /content/content/face_mask_detection/test/Imag...\n",
              "1  Image_2.jpg  /content/content/face_mask_detection/test/Imag...\n",
              "2  Image_3.jpg  /content/content/face_mask_detection/test/Imag...\n",
              "3  Image_4.jpg  /content/content/face_mask_detection/test/Imag...\n",
              "4  Image_5.jpg  /content/content/face_mask_detection/test/Imag..."
            ]
          },
          "metadata": {
            "tags": []
          },
          "execution_count": 9
        }
      ]
    },
    {
      "cell_type": "code",
      "metadata": {
        "ExecuteTime": {
          "end_time": "2020-09-13T17:04:30.916581Z",
          "start_time": "2020-09-13T17:04:30.903286Z"
        },
        "id": "SXjFj3Cfc01d",
        "colab_type": "code",
        "colab": {}
      },
      "source": [
        "# Function for Resizing and Reshaping the input images\n",
        "def centering_image(img):\n",
        "    \n",
        "    size = [256,256]\n",
        "    #shape:(h×w×t)taking the first2 elements(h,w) and unpacking them appropriately \n",
        "    img_size = img.shape[:2]\n",
        "    \n",
        "    # extracting the excess space for centering.\n",
        "    row = (size[1] - img_size[0]) // 2\n",
        "    col = (size[0] - img_size[1]) // 2\n",
        "    \n",
        "    #creating centered image by taking a 0-matrix and then re-assigning intensities\n",
        "    resized = np.zeros(list(size) + [img.shape[2]], dtype=np.uint8)\n",
        "    resized[row:(row + img.shape[0]), col:(col + img.shape[1])] = img\n",
        "\n",
        "    return resized"
      ],
      "execution_count": 10,
      "outputs": []
    },
    {
      "cell_type": "code",
      "metadata": {
        "ExecuteTime": {
          "end_time": "2020-09-13T17:05:50.793684Z",
          "start_time": "2020-09-13T17:05:24.783309Z"
        },
        "id": "Ed6DUsM6c01o",
        "colab_type": "code",
        "colab": {
          "base_uri": "https://localhost:8080/",
          "height": 117,
          "referenced_widgets": [
            "9bed0d70cdfc4063967c9633b149e5fa",
            "e5356f59fbe449aa8362f9a826e06354",
            "b723aab402a94149924674eecdfd548c",
            "0877931fba004704b6ff7c0aa6f0d876",
            "6b2460fba9964c50bdb30a64d726f4a4",
            "81adcf9be6bb4ff7ba418fc786a2c9a1",
            "7a2e6a17df434e30848e00ab1c5526e0",
            "e6c3a7aceca94a398a3997bd465f9f5c"
          ]
        },
        "outputId": "41440164-2fcd-4842-f138-180f51204c6d"
      },
      "source": [
        "# Image Resizing and converting them to array for test images of folder test\n",
        "\"\"\" \n",
        "TQDM is a progress bar library. \n",
        "Inserting tqdm (or python -m tqdm)between pipes will pass \n",
        "through all stdin to stdout while printing progress to stderr\n",
        "\"\"\"\n",
        "tst_images = []\n",
        "with tqdm(total=len(test_data)) as pbar:\n",
        "    for i, file_path in enumerate(test_data.filepaths.values):\n",
        "        \n",
        "        #read image\n",
        "        img = cv2.imread(file_path,1)\n",
        "        \n",
        "        #color order is changed\n",
        "        img = cv2.cvtColor(img, cv2.COLOR_BGR2RGB)\n",
        "\n",
        "        #resize\n",
        "        #converting images to square\n",
        "        if(img.shape[0] > img.shape[1]):\n",
        "            tile_size = (int(img.shape[1]*256/img.shape[0]),256)\n",
        "        else:\n",
        "            tile_size = (256, int(img.shape[0]*256/img.shape[1]))\n",
        "\n",
        "        #centering the images\n",
        "        img = centering_image(cv2.resize(img, dsize=tile_size))\n",
        "\n",
        "        #out put 224*224px \n",
        "        img = img[16:240, 16:240]\n",
        "        tst_images.append(img)\n",
        "        pbar.update(1)\n",
        "\n",
        "tst_images = np.array(tst_images)\n",
        "tst_images = tst_images/255 # Normalization"
      ],
      "execution_count": 11,
      "outputs": [
        {
          "output_type": "stream",
          "text": [
            "/usr/local/lib/python3.6/dist-packages/ipykernel_launcher.py:8: TqdmDeprecationWarning: This function will be removed in tqdm==5.0.0\n",
            "Please use `tqdm.notebook.tqdm` instead of `tqdm.tqdm_notebook`\n",
            "  \n"
          ],
          "name": "stderr"
        },
        {
          "output_type": "display_data",
          "data": {
            "application/vnd.jupyter.widget-view+json": {
              "model_id": "9bed0d70cdfc4063967c9633b149e5fa",
              "version_minor": 0,
              "version_major": 2
            },
            "text/plain": [
              "HBox(children=(FloatProgress(value=0.0, max=1536.0), HTML(value='')))"
            ]
          },
          "metadata": {
            "tags": []
          }
        },
        {
          "output_type": "stream",
          "text": [
            "\n"
          ],
          "name": "stdout"
        }
      ]
    },
    {
      "cell_type": "code",
      "metadata": {
        "ExecuteTime": {
          "end_time": "2020-09-13T17:06:04.316381Z",
          "start_time": "2020-09-13T17:06:04.308399Z"
        },
        "id": "hQ6jNGPjc012",
        "colab_type": "code",
        "colab": {
          "base_uri": "https://localhost:8080/",
          "height": 34
        },
        "outputId": "144eb16e-62ad-4403-d693-5e352daaed6d"
      },
      "source": [
        "tst_images.shape\n"
      ],
      "execution_count": 12,
      "outputs": [
        {
          "output_type": "execute_result",
          "data": {
            "text/plain": [
              "(1536, 224, 224, 3)"
            ]
          },
          "metadata": {
            "tags": []
          },
          "execution_count": 12
        }
      ]
    },
    {
      "cell_type": "code",
      "metadata": {
        "id": "NyJ4IqEveDBR",
        "colab_type": "code",
        "colab": {
          "base_uri": "https://localhost:8080/",
          "height": 34
        },
        "outputId": "8a10690c-636a-4289-ef70-095d6efce9d3"
      },
      "source": [
        "from google.colab import drive\n",
        "drive.mount('/content/drive')"
      ],
      "execution_count": 13,
      "outputs": [
        {
          "output_type": "stream",
          "text": [
            "Mounted at /content/drive\n"
          ],
          "name": "stdout"
        }
      ]
    },
    {
      "cell_type": "code",
      "metadata": {
        "id": "mTgOxMufc02K",
        "colab_type": "code",
        "colab": {}
      },
      "source": [
        "#model_name = \"ownModel_CNN_GPU.h5\"\n",
        "model = load_model('/content/drive/My Drive/dphi_bootcamp/model_MobileNetV2_transferLearning_TPU_10epochs.h5')"
      ],
      "execution_count": 14,
      "outputs": []
    },
    {
      "cell_type": "code",
      "metadata": {
        "id": "hIGmbShhd6GV",
        "colab_type": "code",
        "colab": {}
      },
      "source": [
        "target = model.predict(tst_images)"
      ],
      "execution_count": 15,
      "outputs": []
    },
    {
      "cell_type": "code",
      "metadata": {
        "id": "tQIru1hNeUPm",
        "colab_type": "code",
        "colab": {
          "base_uri": "https://localhost:8080/",
          "height": 34
        },
        "outputId": "9ce36102-3d19-42a0-91d1-b352b278deb5"
      },
      "source": [
        "target[0]"
      ],
      "execution_count": 16,
      "outputs": [
        {
          "output_type": "execute_result",
          "data": {
            "text/plain": [
              "array([1.0757468e-19, 1.0000000e+00], dtype=float32)"
            ]
          },
          "metadata": {
            "tags": []
          },
          "execution_count": 16
        }
      ]
    },
    {
      "cell_type": "code",
      "metadata": {
        "id": "yVDqnN3agBXa",
        "colab_type": "code",
        "colab": {}
      },
      "source": [
        "names= ['with_mask', 'without_mask']"
      ],
      "execution_count": 17,
      "outputs": []
    },
    {
      "cell_type": "code",
      "metadata": {
        "id": "OVGkPBREgIRu",
        "colab_type": "code",
        "colab": {
          "base_uri": "https://localhost:8080/",
          "height": 34
        },
        "outputId": "50fc2394-455b-4348-fdde-b46a329a150a"
      },
      "source": [
        "len(names)"
      ],
      "execution_count": 19,
      "outputs": [
        {
          "output_type": "execute_result",
          "data": {
            "text/plain": [
              "2"
            ]
          },
          "metadata": {
            "tags": []
          },
          "execution_count": 19
        }
      ]
    },
    {
      "cell_type": "code",
      "metadata": {
        "id": "zjmhg033eerM",
        "colab_type": "code",
        "colab": {}
      },
      "source": [
        "res_target1 = []\n",
        "real_names1 = []\n",
        "for i in range(0,1536):\n",
        "    res_target1.append(np.argmax(target[i]))\n",
        "    real_names1.append(str(\"'\")+names[np.argmax(target[i])]+str(\"'\"))"
      ],
      "execution_count": 20,
      "outputs": []
    },
    {
      "cell_type": "code",
      "metadata": {
        "id": "lXySwCQHe_a_",
        "colab_type": "code",
        "colab": {
          "base_uri": "https://localhost:8080/",
          "height": 35
        },
        "outputId": "4160d7dc-0df3-45a0-ac7e-8aedadd4bdf3"
      },
      "source": [
        "real_names1[0]"
      ],
      "execution_count": 21,
      "outputs": [
        {
          "output_type": "execute_result",
          "data": {
            "application/vnd.google.colaboratory.intrinsic+json": {
              "type": "string"
            },
            "text/plain": [
              "\"'without_mask'\""
            ]
          },
          "metadata": {
            "tags": []
          },
          "execution_count": 21
        }
      ]
    },
    {
      "cell_type": "code",
      "metadata": {
        "id": "U5Xi5K_iglRn",
        "colab_type": "code",
        "colab": {}
      },
      "source": [
        "final_pd = pd.DataFrame(real_names1)\n",
        "final_pd = final_pd.astype(str)\n",
        "final_pd.index= test_data.index\n",
        "final_pd.columns= ['target']\n"
      ],
      "execution_count": 22,
      "outputs": []
    },
    {
      "cell_type": "code",
      "metadata": {
        "id": "fAfc4-YggzAI",
        "colab_type": "code",
        "colab": {
          "base_uri": "https://localhost:8080/",
          "height": 204
        },
        "outputId": "6e665ee3-560f-448d-c063-942daf13dd15"
      },
      "source": [
        "final_pd.head()"
      ],
      "execution_count": 23,
      "outputs": [
        {
          "output_type": "execute_result",
          "data": {
            "text/html": [
              "<div>\n",
              "<style scoped>\n",
              "    .dataframe tbody tr th:only-of-type {\n",
              "        vertical-align: middle;\n",
              "    }\n",
              "\n",
              "    .dataframe tbody tr th {\n",
              "        vertical-align: top;\n",
              "    }\n",
              "\n",
              "    .dataframe thead th {\n",
              "        text-align: right;\n",
              "    }\n",
              "</style>\n",
              "<table border=\"1\" class=\"dataframe\">\n",
              "  <thead>\n",
              "    <tr style=\"text-align: right;\">\n",
              "      <th></th>\n",
              "      <th>target</th>\n",
              "    </tr>\n",
              "  </thead>\n",
              "  <tbody>\n",
              "    <tr>\n",
              "      <th>0</th>\n",
              "      <td>'without_mask'</td>\n",
              "    </tr>\n",
              "    <tr>\n",
              "      <th>1</th>\n",
              "      <td>'with_mask'</td>\n",
              "    </tr>\n",
              "    <tr>\n",
              "      <th>2</th>\n",
              "      <td>'without_mask'</td>\n",
              "    </tr>\n",
              "    <tr>\n",
              "      <th>3</th>\n",
              "      <td>'with_mask'</td>\n",
              "    </tr>\n",
              "    <tr>\n",
              "      <th>4</th>\n",
              "      <td>'with_mask'</td>\n",
              "    </tr>\n",
              "  </tbody>\n",
              "</table>\n",
              "</div>"
            ],
            "text/plain": [
              "           target\n",
              "0  'without_mask'\n",
              "1     'with_mask'\n",
              "2  'without_mask'\n",
              "3     'with_mask'\n",
              "4     'with_mask'"
            ]
          },
          "metadata": {
            "tags": []
          },
          "execution_count": 23
        }
      ]
    },
    {
      "cell_type": "code",
      "metadata": {
        "id": "OHiQWiCghRol",
        "colab_type": "code",
        "colab": {}
      },
      "source": [
        "test_data['label'] = real_names1"
      ],
      "execution_count": 24,
      "outputs": []
    },
    {
      "cell_type": "code",
      "metadata": {
        "id": "rbEruITxhXq6",
        "colab_type": "code",
        "colab": {
          "base_uri": "https://localhost:8080/",
          "height": 204
        },
        "outputId": "1b14d2d6-c001-4cc0-bf4b-32bd2602a55b"
      },
      "source": [
        "test_data.head()"
      ],
      "execution_count": 25,
      "outputs": [
        {
          "output_type": "execute_result",
          "data": {
            "text/html": [
              "<div>\n",
              "<style scoped>\n",
              "    .dataframe tbody tr th:only-of-type {\n",
              "        vertical-align: middle;\n",
              "    }\n",
              "\n",
              "    .dataframe tbody tr th {\n",
              "        vertical-align: top;\n",
              "    }\n",
              "\n",
              "    .dataframe thead th {\n",
              "        text-align: right;\n",
              "    }\n",
              "</style>\n",
              "<table border=\"1\" class=\"dataframe\">\n",
              "  <thead>\n",
              "    <tr style=\"text-align: right;\">\n",
              "      <th></th>\n",
              "      <th>filename</th>\n",
              "      <th>filepaths</th>\n",
              "      <th>label</th>\n",
              "    </tr>\n",
              "  </thead>\n",
              "  <tbody>\n",
              "    <tr>\n",
              "      <th>0</th>\n",
              "      <td>Image_1.jpg</td>\n",
              "      <td>/content/content/face_mask_detection/test/Imag...</td>\n",
              "      <td>'without_mask'</td>\n",
              "    </tr>\n",
              "    <tr>\n",
              "      <th>1</th>\n",
              "      <td>Image_2.jpg</td>\n",
              "      <td>/content/content/face_mask_detection/test/Imag...</td>\n",
              "      <td>'with_mask'</td>\n",
              "    </tr>\n",
              "    <tr>\n",
              "      <th>2</th>\n",
              "      <td>Image_3.jpg</td>\n",
              "      <td>/content/content/face_mask_detection/test/Imag...</td>\n",
              "      <td>'without_mask'</td>\n",
              "    </tr>\n",
              "    <tr>\n",
              "      <th>3</th>\n",
              "      <td>Image_4.jpg</td>\n",
              "      <td>/content/content/face_mask_detection/test/Imag...</td>\n",
              "      <td>'with_mask'</td>\n",
              "    </tr>\n",
              "    <tr>\n",
              "      <th>4</th>\n",
              "      <td>Image_5.jpg</td>\n",
              "      <td>/content/content/face_mask_detection/test/Imag...</td>\n",
              "      <td>'with_mask'</td>\n",
              "    </tr>\n",
              "  </tbody>\n",
              "</table>\n",
              "</div>"
            ],
            "text/plain": [
              "      filename  ...           label\n",
              "0  Image_1.jpg  ...  'without_mask'\n",
              "1  Image_2.jpg  ...     'with_mask'\n",
              "2  Image_3.jpg  ...  'without_mask'\n",
              "3  Image_4.jpg  ...     'with_mask'\n",
              "4  Image_5.jpg  ...     'with_mask'\n",
              "\n",
              "[5 rows x 3 columns]"
            ]
          },
          "metadata": {
            "tags": []
          },
          "execution_count": 25
        }
      ]
    },
    {
      "cell_type": "code",
      "metadata": {
        "id": "ZUrrGqjggzFc",
        "colab_type": "code",
        "colab": {}
      },
      "source": [
        "final_pd.to_csv(\"/content/drive/My Drive/dphi_bootcamp/prediction_FaceDetectionModel_10epochs.csv\",index=False, header=False)"
      ],
      "execution_count": 26,
      "outputs": []
    },
    {
      "cell_type": "code",
      "metadata": {
        "id": "tzC43-poho2m",
        "colab_type": "code",
        "colab": {}
      },
      "source": [
        "# LeaderBoard : \n",
        "\n",
        "# | Rank\t| Username\t | Score     |\n",
        "# +-------+------------+-----------+\n",
        "# | 6\t    | ayoubberd\t | 98.046875 |\n",
        "\n",
        "\n",
        "# This only because I trained the model for 5 epochs....\n",
        "\n",
        "18/09/2020\n",
        "# LeaderBoard : \n",
        "\n",
        "# | Rank\t| Username\t | Score     |\n",
        "# +-------+------------+-----------+\n",
        "# | 13\t    | ayoubberd\t | 98.046875 |\n",
        "\n",
        "# This only because I trained the model for 5 epochs...."
      ],
      "execution_count": null,
      "outputs": []
    },
    {
      "cell_type": "code",
      "metadata": {
        "id": "iOHZbkCyk6DZ",
        "colab_type": "code",
        "colab": {}
      },
      "source": [
        "# Later  I will use it in an app and deploy IT ....."
      ],
      "execution_count": null,
      "outputs": []
    },
    {
      "cell_type": "code",
      "metadata": {
        "id": "nwvoIY8Wk-mu",
        "colab_type": "code",
        "colab": {}
      },
      "source": [
        "# LeaderBoard : \n",
        "\n",
        "# | Rank\t| Username\t | Score     |\n",
        "# +-------+------------+-----------+\n",
        "# | 3     | ayoubberd\t | 99.804688 |\n",
        "\n",
        "19/09/2020\n",
        "# This only because I trained the model for 10 epochs...."
      ],
      "execution_count": null,
      "outputs": []
    },
    {
      "cell_type": "code",
      "metadata": {
        "id": "cfFb1GJVj4ny",
        "colab_type": "code",
        "colab": {}
      },
      "source": [
        ""
      ],
      "execution_count": null,
      "outputs": []
    },
    {
      "cell_type": "code",
      "metadata": {
        "id": "WL602Y4yj467",
        "colab_type": "code",
        "colab": {}
      },
      "source": [
        ""
      ],
      "execution_count": null,
      "outputs": []
    }
  ]
}