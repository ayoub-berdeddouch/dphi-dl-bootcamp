{
 "cells": [
  {
   "cell_type": "markdown",
   "metadata": {},
   "source": [
    "# Models Test Notebook\n",
    "\n",
    "In this Notebook we will test our 3 models trained on Colab laboratory using GPU\n",
    "\n",
    "## Model 1:\n",
    "\n",
    "    * 3 blocs of VGG\n",
    "    name : 'ownModel_CNN_GPU.h5'\n",
    "    _____| CNN > CNN > Pool > Dropout\n",
    "    _____| CNN > CNN > Pool > Dropout\n",
    "    _____| CNN > CNN > Pool > Dropout\n",
    "    _____| Flatten > Dense > Dropout & output layer (5 classes)\n",
    "    _____| optimizer=optimizers.SGD(lr=learning_rate, momentum=0.9, decay=decay_rate, nesterov=False)\n",
    "    _____| decay_rate = learning_rate / epochs #( learning_rate= 0.001; epochs= 100\n",
    "    _____| + Data Augmentation\n",
    "    _____| CNN: Epochs=100, Train accuracy=0.64380, Validation accuracy=0.65200\n",
    "\n",
    "\n",
    "## Model 2:\n",
    "\n",
    "    * 3 blocs of VGG different architecture.\n",
    "    _____| CNN > Pool\n",
    "    _____| CNN > Pool\n",
    "    _____| CNN > Pool\n",
    "    _____| Flatten > Dense > Dropout > Dense > Dropout & output layer (5 classes)\n",
    "    _____| optimizer=optimizers.Adam()\n",
    "    _____| + Data Augmentation\n",
    "    _____| CNN: Epochs=150, Train accuracy=0.66057, Validation accuracy=0.71800\n",
    "    \n",
    "## Model 3:\n",
    "\n",
    "    * Using Transfer learning VGG_16\n",
    "    _____| CNN > Pool\n",
    "    _____| CNN > Pool\n",
    "    _____| CNN > Pool\n",
    "    _____| Flatten > Dense > Dropout > Dense > Dropout & output layer (5 classes)\n",
    "    _____| optimizer=optimizers.SGD(lr=learning_rate, momentum=0.9, decay=decay_rate, nesterov=False)\n",
    "    _____| decay_rate = learning_rate / epochs #( learning_rate= 0.001; epochs= 100\n",
    "    _____| + Data Augmentation\n",
    "    _____| CNN: Epochs=100, Train accuracy=1.00000, Validation accuracy=0.96200\n"
   ]
  },
  {
   "cell_type": "markdown",
   "metadata": {
    "colab_type": "text",
    "id": "hSK-koVvh3Sb"
   },
   "source": [
    "# Load Libraries"
   ]
  },
  {
   "cell_type": "code",
   "execution_count": 4,
   "metadata": {
    "colab": {
     "base_uri": "https://localhost:8080/",
     "height": 128
    },
    "colab_type": "code",
    "id": "b7iB7Z-QiMjF",
    "outputId": "b57cdf8a-d2e7-4f6f-ee10-32c8cd6b190a"
   },
   "outputs": [
    {
     "name": "stdout",
     "output_type": "stream",
     "text": [
      "Go to this URL in a browser: https://accounts.google.com/o/oauth2/auth?client_id=947318989803-6bn6qk8qdgf4n4g3pfee6491hc0brc4i.apps.googleusercontent.com&redirect_uri=urn%3aietf%3awg%3aoauth%3a2.0%3aoob&scope=email%20https%3a%2f%2fwww.googleapis.com%2fauth%2fdocs.test%20https%3a%2f%2fwww.googleapis.com%2fauth%2fdrive%20https%3a%2f%2fwww.googleapis.com%2fauth%2fdrive.photos.readonly%20https%3a%2f%2fwww.googleapis.com%2fauth%2fpeopleapi.readonly&response_type=code\n",
      "\n",
      "Enter your authorization code:\n",
      "··········\n",
      "Mounted at /content/drive\n"
     ]
    }
   ],
   "source": [
    "from google.colab import drive\n",
    "drive.mount('/content/drive')"
   ]
  },
  {
   "cell_type": "code",
   "execution_count": 31,
   "metadata": {
    "ExecuteTime": {
     "end_time": "2020-09-07T16:59:34.187687Z",
     "start_time": "2020-09-07T16:59:34.182691Z"
    },
    "colab": {},
    "colab_type": "code",
    "id": "hssCnwEeh3Se"
   },
   "outputs": [],
   "source": [
    "import numpy as np\n",
    "import pandas as pd\n",
    "import os\n",
    "import cv2\n",
    "import matplotlib.pyplot as plt\n",
    "from tqdm import tqdm_notebook as tqdm\n",
    "#from tqdm.notebook import tqdm\n",
    "from tensorflow.keras.models import load_model\n",
    "from tensorflow.keras.utils import to_categorical\n"
   ]
  },
  {
   "cell_type": "code",
   "execution_count": 6,
   "metadata": {
    "colab": {
     "base_uri": "https://localhost:8080/",
     "height": 108
    },
    "colab_type": "code",
    "id": "skeQmEJxiWWO",
    "outputId": "7cc5d8e8-c221-4890-e472-522bd18a1190"
   },
   "outputs": [
    {
     "name": "stdout",
     "output_type": "stream",
     "text": [
      "animal_names.npy\t\t\t    test_images.npy\n",
      "model_vgg_transferLearning_GPU100epochs.h5  Testing_set_animals.csv\n",
      "ownModel_3VGG_CNN_GPU150epochs.h5\t    x.npy\n",
      "ownModel_CNN_GPU.h5\t\t\t    y.npy\n",
      "test\n"
     ]
    }
   ],
   "source": [
    "!ls '/content/drive/My Drive/dphi_bootcamp'"
   ]
  },
  {
   "cell_type": "code",
   "execution_count": 30,
   "metadata": {
    "colab": {},
    "colab_type": "code",
    "id": "9dv6sjY3rBmk"
   },
   "outputs": [],
   "source": [
    "# I stored the x & y as .npy for later use on colab for testing.\n",
    "x = np.load('/content/drive/My Drive/dphi_bootcamp/x.npy')\n",
    "y = np.load('/content/drive/My Drive/dphi_bootcamp/y.npy')"
   ]
  },
  {
   "cell_type": "code",
   "execution_count": 32,
   "metadata": {
    "colab": {
     "base_uri": "https://localhost:8080/",
     "height": 290
    },
    "colab_type": "code",
    "id": "MiyWxg_4rGoa",
    "outputId": "72dbc1d4-aa22-4c3f-e0ec-2eabf3890ccb"
   },
   "outputs": [
    {
     "name": "stdout",
     "output_type": "stream",
     "text": [
      "#########TRAIN###############\n",
      "x_train (2000, 224, 224, 3)\n",
      "y_train (2000,)\n",
      "#########TEST###############\n",
      "x_test (500, 224, 224, 3)\n",
      "y_test (500,)\n",
      "############################\n",
      "[[0. 1. 0. 0. 0.]\n",
      " [1. 0. 0. 0. 0.]\n",
      " [0. 0. 1. 0. 0.]\n",
      " [0. 1. 0. 0. 0.]\n",
      " [0. 0. 1. 0. 0.]]\n",
      "x_train Shape: (2000, 224, 224, 3) \t x_test Shape: (2000, 224, 224, 3)\n",
      "y_train Shape:  (2000, 5) \t y_test Shape: (2000, 5)\n",
      "image Shape: (224, 224, 3)\n"
     ]
    }
   ],
   "source": [
    "#Train val split\n",
    "val_split_num = int(round(0.2*len(y)))\n",
    "\n",
    "x_train = x[val_split_num:]\n",
    "y_train = y[val_split_num:]\n",
    "\n",
    "x_test = x[:val_split_num]\n",
    "y_test = y[:val_split_num]\n",
    "\n",
    "print('#########TRAIN###############')\n",
    "print('x_train', x_train.shape)\n",
    "print('y_train', y_train.shape)\n",
    "print('#########TEST###############')\n",
    "print('x_test', x_test.shape)\n",
    "print('y_test', y_test.shape)\n",
    "print('############################')\n",
    "\n",
    "# OneHotVectorizing categories\n",
    "y_train = to_categorical(y_train)\n",
    "y_test = to_categorical(y_test)\n",
    "\n",
    "print(y_train[:5])\n",
    "\n",
    "# Input normalization\n",
    "x_train = x_train.astype('float32')\n",
    "x_test = x_test.astype('float32')\n",
    "\n",
    "x_train /= 255\n",
    "x_test /= 255\n",
    "\n",
    "print('x_train Shape:', x_train.shape, '\\t x_test Shape:',x_train.shape)\n",
    "print('y_train Shape: ', y_train.shape, '\\t y_test Shape:',y_train.shape)\n",
    "print('image Shape:', x_train[0].shape)\n"
   ]
  },
  {
   "cell_type": "markdown",
   "metadata": {
    "colab_type": "text",
    "id": "fnFY8gevh3Sn"
   },
   "source": [
    "# Test DATA ( test folder & CSV file)"
   ]
  },
  {
   "cell_type": "markdown",
   "metadata": {
    "ExecuteTime": {
     "end_time": "2020-09-07T16:22:22.317453Z",
     "start_time": "2020-09-07T16:22:22.313452Z"
    },
    "colab_type": "text",
    "id": "1RdENIO4h3Sq"
   },
   "source": [
    "## Reading the CSV file"
   ]
  },
  {
   "cell_type": "code",
   "execution_count": 7,
   "metadata": {
    "ExecuteTime": {
     "end_time": "2020-09-07T16:38:25.726338Z",
     "start_time": "2020-09-07T16:38:25.718323Z"
    },
    "colab": {},
    "colab_type": "code",
    "id": "lZ08mljmh3St"
   },
   "outputs": [],
   "source": [
    "test_data = pd.read_csv('/content/drive/My Drive/dphi_bootcamp/Testing_set_animals.csv')"
   ]
  },
  {
   "cell_type": "code",
   "execution_count": 8,
   "metadata": {
    "ExecuteTime": {
     "end_time": "2020-09-07T16:38:28.753359Z",
     "start_time": "2020-09-07T16:38:28.738348Z"
    },
    "colab": {
     "base_uri": "https://localhost:8080/",
     "height": 198
    },
    "colab_type": "code",
    "id": "gyddcgxCh3S1",
    "outputId": "04a228b5-1694-4614-ad03-2ff30d66720c"
   },
   "outputs": [
    {
     "data": {
      "text/html": [
       "<div>\n",
       "<style scoped>\n",
       "    .dataframe tbody tr th:only-of-type {\n",
       "        vertical-align: middle;\n",
       "    }\n",
       "\n",
       "    .dataframe tbody tr th {\n",
       "        vertical-align: top;\n",
       "    }\n",
       "\n",
       "    .dataframe thead th {\n",
       "        text-align: right;\n",
       "    }\n",
       "</style>\n",
       "<table border=\"1\" class=\"dataframe\">\n",
       "  <thead>\n",
       "    <tr style=\"text-align: right;\">\n",
       "      <th></th>\n",
       "      <th>filename</th>\n",
       "      <th>target</th>\n",
       "    </tr>\n",
       "  </thead>\n",
       "  <tbody>\n",
       "    <tr>\n",
       "      <th>0</th>\n",
       "      <td>e030b20928e90021d85a5854ee454296eb70e3c818b413...</td>\n",
       "      <td>NaN</td>\n",
       "    </tr>\n",
       "    <tr>\n",
       "      <th>1</th>\n",
       "      <td>e030b20929e90021d85a5854ee454296eb70e3c818b413...</td>\n",
       "      <td>NaN</td>\n",
       "    </tr>\n",
       "    <tr>\n",
       "      <th>2</th>\n",
       "      <td>e030b2092be90021d85a5854ee454296eb70e3c818b413...</td>\n",
       "      <td>NaN</td>\n",
       "    </tr>\n",
       "    <tr>\n",
       "      <th>3</th>\n",
       "      <td>e030b2092ce90021d85a5854ee454296eb70e3c818b413...</td>\n",
       "      <td>NaN</td>\n",
       "    </tr>\n",
       "    <tr>\n",
       "      <th>4</th>\n",
       "      <td>e030b2092de90021d85a5854ee454296eb70e3c818b413...</td>\n",
       "      <td>NaN</td>\n",
       "    </tr>\n",
       "  </tbody>\n",
       "</table>\n",
       "</div>"
      ],
      "text/plain": [
       "                                            filename  target\n",
       "0  e030b20928e90021d85a5854ee454296eb70e3c818b413...     NaN\n",
       "1  e030b20929e90021d85a5854ee454296eb70e3c818b413...     NaN\n",
       "2  e030b2092be90021d85a5854ee454296eb70e3c818b413...     NaN\n",
       "3  e030b2092ce90021d85a5854ee454296eb70e3c818b413...     NaN\n",
       "4  e030b2092de90021d85a5854ee454296eb70e3c818b413...     NaN"
      ]
     },
     "execution_count": 8,
     "metadata": {
      "tags": []
     },
     "output_type": "execute_result"
    }
   ],
   "source": [
    "test_data.head()"
   ]
  },
  {
   "cell_type": "markdown",
   "metadata": {
    "ExecuteTime": {
     "end_time": "2020-09-07T16:22:50.918150Z",
     "start_time": "2020-09-07T16:22:50.915150Z"
    },
    "colab_type": "text",
    "id": "zkZtce4Xh3TX"
   },
   "source": [
    "## Copying the Dataframe"
   ]
  },
  {
   "cell_type": "code",
   "execution_count": 9,
   "metadata": {
    "ExecuteTime": {
     "end_time": "2020-09-07T16:38:30.572299Z",
     "start_time": "2020-09-07T16:38:30.567302Z"
    },
    "colab": {},
    "colab_type": "code",
    "id": "902nxY6Yh3TZ"
   },
   "outputs": [],
   "source": [
    "tst = test_data.copy()"
   ]
  },
  {
   "cell_type": "markdown",
   "metadata": {
    "colab_type": "text",
    "id": "qaSu6MhYh3Ti"
   },
   "source": [
    "## Adding the ./test/ to access the images"
   ]
  },
  {
   "cell_type": "code",
   "execution_count": 10,
   "metadata": {
    "ExecuteTime": {
     "end_time": "2020-09-07T16:38:33.052232Z",
     "start_time": "2020-09-07T16:38:33.046235Z"
    },
    "colab": {},
    "colab_type": "code",
    "id": "mjbPUa41h3Tj"
   },
   "outputs": [],
   "source": [
    "tst['filename'] = '/content/drive/My Drive/dphi_bootcamp/test/' + tst['filename']"
   ]
  },
  {
   "cell_type": "code",
   "execution_count": 11,
   "metadata": {
    "ExecuteTime": {
     "end_time": "2020-09-07T16:38:34.485815Z",
     "start_time": "2020-09-07T16:38:34.476823Z"
    },
    "colab": {
     "base_uri": "https://localhost:8080/",
     "height": 198
    },
    "colab_type": "code",
    "id": "q_oV6A8Hh3Tr",
    "outputId": "8eebcc21-0a93-4a60-e5ff-b2294ab592e6"
   },
   "outputs": [
    {
     "data": {
      "text/html": [
       "<div>\n",
       "<style scoped>\n",
       "    .dataframe tbody tr th:only-of-type {\n",
       "        vertical-align: middle;\n",
       "    }\n",
       "\n",
       "    .dataframe tbody tr th {\n",
       "        vertical-align: top;\n",
       "    }\n",
       "\n",
       "    .dataframe thead th {\n",
       "        text-align: right;\n",
       "    }\n",
       "</style>\n",
       "<table border=\"1\" class=\"dataframe\">\n",
       "  <thead>\n",
       "    <tr style=\"text-align: right;\">\n",
       "      <th></th>\n",
       "      <th>filename</th>\n",
       "      <th>target</th>\n",
       "    </tr>\n",
       "  </thead>\n",
       "  <tbody>\n",
       "    <tr>\n",
       "      <th>0</th>\n",
       "      <td>/content/drive/My Drive/dphi_bootcamp/test/e03...</td>\n",
       "      <td>NaN</td>\n",
       "    </tr>\n",
       "    <tr>\n",
       "      <th>1</th>\n",
       "      <td>/content/drive/My Drive/dphi_bootcamp/test/e03...</td>\n",
       "      <td>NaN</td>\n",
       "    </tr>\n",
       "    <tr>\n",
       "      <th>2</th>\n",
       "      <td>/content/drive/My Drive/dphi_bootcamp/test/e03...</td>\n",
       "      <td>NaN</td>\n",
       "    </tr>\n",
       "    <tr>\n",
       "      <th>3</th>\n",
       "      <td>/content/drive/My Drive/dphi_bootcamp/test/e03...</td>\n",
       "      <td>NaN</td>\n",
       "    </tr>\n",
       "    <tr>\n",
       "      <th>4</th>\n",
       "      <td>/content/drive/My Drive/dphi_bootcamp/test/e03...</td>\n",
       "      <td>NaN</td>\n",
       "    </tr>\n",
       "  </tbody>\n",
       "</table>\n",
       "</div>"
      ],
      "text/plain": [
       "                                            filename  target\n",
       "0  /content/drive/My Drive/dphi_bootcamp/test/e03...     NaN\n",
       "1  /content/drive/My Drive/dphi_bootcamp/test/e03...     NaN\n",
       "2  /content/drive/My Drive/dphi_bootcamp/test/e03...     NaN\n",
       "3  /content/drive/My Drive/dphi_bootcamp/test/e03...     NaN\n",
       "4  /content/drive/My Drive/dphi_bootcamp/test/e03...     NaN"
      ]
     },
     "execution_count": 11,
     "metadata": {
      "tags": []
     },
     "output_type": "execute_result"
    }
   ],
   "source": [
    "tst.head()"
   ]
  },
  {
   "cell_type": "code",
   "execution_count": 12,
   "metadata": {
    "ExecuteTime": {
     "end_time": "2020-09-07T16:38:35.926873Z",
     "start_time": "2020-09-07T16:38:35.918879Z"
    },
    "colab": {
     "base_uri": "https://localhost:8080/",
     "height": 181
    },
    "colab_type": "code",
    "id": "IJoeBQn4h3UJ",
    "outputId": "07e1060d-1f88-44c5-cd31-1163d167400f"
   },
   "outputs": [
    {
     "name": "stdout",
     "output_type": "stream",
     "text": [
      "<class 'pandas.core.frame.DataFrame'>\n",
      "RangeIndex: 910 entries, 0 to 909\n",
      "Data columns (total 2 columns):\n",
      " #   Column    Non-Null Count  Dtype  \n",
      "---  ------    --------------  -----  \n",
      " 0   filename  910 non-null    object \n",
      " 1   target    0 non-null      float64\n",
      "dtypes: float64(1), object(1)\n",
      "memory usage: 14.3+ KB\n"
     ]
    }
   ],
   "source": [
    "tst.info()"
   ]
  },
  {
   "cell_type": "code",
   "execution_count": 13,
   "metadata": {
    "ExecuteTime": {
     "end_time": "2020-09-07T16:38:38.577850Z",
     "start_time": "2020-09-07T16:38:38.571855Z"
    },
    "colab": {},
    "colab_type": "code",
    "id": "7QHpra4Rh3Vl"
   },
   "outputs": [],
   "source": [
    "# Function for Resizing and Reshaping the input images\n",
    "def centering_image(img):\n",
    "    \n",
    "    size = [256,256]\n",
    "    #shape:(h×w×t)taking the first2 elements(h,w) and unpacking them appropriately \n",
    "    img_size = img.shape[:2]\n",
    "    \n",
    "    # extracting the excess space for centering.\n",
    "    row = (size[1] - img_size[0]) // 2\n",
    "    col = (size[0] - img_size[1]) // 2\n",
    "    \n",
    "    #creating centered image by taking a 0-matrix and then re-assigning intensities\n",
    "    resized = np.zeros(list(size) + [img.shape[2]], dtype=np.uint8)\n",
    "    resized[row:(row + img.shape[0]), col:(col + img.shape[1])] = img\n",
    "\n",
    "    return resized"
   ]
  },
  {
   "cell_type": "code",
   "execution_count": 41,
   "metadata": {
    "colab": {},
    "colab_type": "code",
    "id": "d0xXEOE9jhsB"
   },
   "outputs": [],
   "source": [
    "#!pip install tqdm --upgrade"
   ]
  },
  {
   "cell_type": "code",
   "execution_count": 32,
   "metadata": {
    "colab": {},
    "colab_type": "code",
    "id": "Gl2CHns0j-Fi"
   },
   "outputs": [],
   "source": [
    "from skimage import io\n"
   ]
  },
  {
   "cell_type": "code",
   "execution_count": 14,
   "metadata": {
    "ExecuteTime": {
     "end_time": "2020-09-07T16:38:47.064603Z",
     "start_time": "2020-09-07T16:38:40.590308Z"
    },
    "colab": {
     "base_uri": "https://localhost:8080/",
     "height": 122,
     "referenced_widgets": [
      "9cab27c5884c465b8fe37db4680141ca",
      "deb601859eda40388a0eb9251da6b1e7",
      "3a786b4ec15c48d1944a5949ad531515",
      "22fda91e9e1b4457a753ba0d5b552e4b",
      "b852ebdc6a8f4942ae9965828596397d",
      "c2bacb10546d46fea2bd060ce40eb36e",
      "6a664ff996774ed59582f6b990215445",
      "cd893a739f02424a81f57be57e6e9fdc"
     ]
    },
    "colab_type": "code",
    "id": "JwR5SvXPh3Vt",
    "outputId": "486d25c3-df0f-495e-f0da-812ea1fc5616"
   },
   "outputs": [
    {
     "name": "stderr",
     "output_type": "stream",
     "text": [
      "/usr/local/lib/python3.6/dist-packages/ipykernel_launcher.py:8: TqdmDeprecationWarning: This function will be removed in tqdm==5.0.0\n",
      "Please use `tqdm.notebook.tqdm` instead of `tqdm.tqdm_notebook`\n",
      "  \n"
     ]
    },
    {
     "data": {
      "application/vnd.jupyter.widget-view+json": {
       "model_id": "9cab27c5884c465b8fe37db4680141ca",
       "version_major": 2,
       "version_minor": 0
      },
      "text/plain": [
       "HBox(children=(FloatProgress(value=0.0, max=910.0), HTML(value='')))"
      ]
     },
     "metadata": {
      "tags": []
     },
     "output_type": "display_data"
    },
    {
     "name": "stdout",
     "output_type": "stream",
     "text": [
      "\n"
     ]
    }
   ],
   "source": [
    "# Image Resizing and converting them to array for test images of folder test\n",
    "\"\"\" \n",
    "TQDM is a progress bar library. \n",
    "Inserting tqdm (or python -m tqdm)between pipes will pass \n",
    "through all stdin to stdout while printing progress to stderr\n",
    "\"\"\"\n",
    "tst_images = []\n",
    "with tqdm(total=len(tst)) as pbar:\n",
    "    for i, file_path in enumerate(tst.filename.values):\n",
    "        \n",
    "        #read image\n",
    "        img = cv2.imread(file_path,1)\n",
    "        \n",
    "        #color order is changed\n",
    "        img = cv2.cvtColor(img, cv2.COLOR_BGR2RGB)\n",
    "\n",
    "        #resize\n",
    "        #converting images to square\n",
    "        if(img.shape[0] > img.shape[1]):\n",
    "            tile_size = (int(img.shape[1]*256/img.shape[0]),256)\n",
    "        else:\n",
    "            tile_size = (256, int(img.shape[0]*256/img.shape[1]))\n",
    "\n",
    "        #centering the images\n",
    "        img = centering_image(cv2.resize(img, dsize=tile_size))\n",
    "\n",
    "        #out put 224*224px \n",
    "        img = img[16:240, 16:240]\n",
    "        tst_images.append(img)\n",
    "        pbar.update(1)\n",
    "\n",
    "tst_images = np.array(tst_images)\n",
    "tst_images = tst_images/255"
   ]
  },
  {
   "cell_type": "code",
   "execution_count": 15,
   "metadata": {
    "ExecuteTime": {
     "end_time": "2020-09-07T16:38:50.783479Z",
     "start_time": "2020-09-07T16:38:50.777480Z"
    },
    "colab": {
     "base_uri": "https://localhost:8080/",
     "height": 35
    },
    "colab_type": "code",
    "id": "Gy2_YiLTh3V2",
    "outputId": "f14513f2-82eb-447f-a697-d90a680049cd"
   },
   "outputs": [
    {
     "data": {
      "text/plain": [
       "(910, 224, 224, 3)"
      ]
     },
     "execution_count": 15,
     "metadata": {
      "tags": []
     },
     "output_type": "execute_result"
    }
   ],
   "source": [
    "tst_images.shape\n"
   ]
  },
  {
   "cell_type": "code",
   "execution_count": null,
   "metadata": {
    "ExecuteTime": {
     "end_time": "2020-09-07T16:55:46.813720Z",
     "start_time": "2020-09-07T16:55:46.810721Z"
    },
    "colab": {},
    "colab_type": "code",
    "id": "CzCJiO7fh3V7"
   },
   "outputs": [],
   "source": []
  },
  {
   "cell_type": "code",
   "execution_count": null,
   "metadata": {
    "colab": {},
    "colab_type": "code",
    "id": "3_GH6Ibjh3WA"
   },
   "outputs": [],
   "source": [
    "# Test Model 1"
   ]
  },
  {
   "cell_type": "code",
   "execution_count": 16,
   "metadata": {
    "colab": {},
    "colab_type": "code",
    "id": "4GxTgs7lh3WK"
   },
   "outputs": [],
   "source": [
    "#model_name = \"ownModel_CNN_GPU.h5\"\n",
    "model1 = load_model('/content/drive/My Drive/dphi_bootcamp/ownModel_CNN_GPU.h5')"
   ]
  },
  {
   "cell_type": "code",
   "execution_count": 17,
   "metadata": {
    "colab": {},
    "colab_type": "code",
    "id": "Rhp77pKah3WM"
   },
   "outputs": [],
   "source": [
    "target_model1 = model1.predict(tst_images)"
   ]
  },
  {
   "cell_type": "code",
   "execution_count": 33,
   "metadata": {
    "colab": {
     "base_uri": "https://localhost:8080/",
     "height": 54
    },
    "colab_type": "code",
    "id": "2j5h3PcWh3WQ",
    "outputId": "bedcd53d-b51c-47e0-ba0e-9a3da13d3885"
   },
   "outputs": [
    {
     "name": "stdout",
     "output_type": "stream",
     "text": [
      "16/16 - 0s - loss: 1.2545 - accuracy: 0.6520\n",
      "0.6520000100135803\n"
     ]
    }
   ],
   "source": [
    "test_loss1, test_acc1 = model1.evaluate(x_test,  y_test, verbose=2)\n",
    "print(test_acc1) # x_test and y_test are from the split "
   ]
  },
  {
   "cell_type": "code",
   "execution_count": 18,
   "metadata": {
    "colab": {},
    "colab_type": "code",
    "id": "RTRO2_7TotyO"
   },
   "outputs": [],
   "source": [
    "animal_names = np.load('/content/drive/My Drive/dphi_bootcamp/animal_names.npy')"
   ]
  },
  {
   "cell_type": "code",
   "execution_count": 20,
   "metadata": {
    "colab": {},
    "colab_type": "code",
    "id": "TPtq5zbCh3WT"
   },
   "outputs": [],
   "source": [
    "res_target1 = []\n",
    "real_names1 = []\n",
    "for i in range(0,910):\n",
    "    res_target1.append(np.argmax(target_model1[i]))\n",
    "    real_names1.append(str(\"'\")+animal_names[np.argmax(target_model1[i])]+str(\"'\"))"
   ]
  },
  {
   "cell_type": "code",
   "execution_count": 21,
   "metadata": {
    "colab": {},
    "colab_type": "code",
    "id": "Lmoajzrwh3WY"
   },
   "outputs": [],
   "source": [
    "final_pd1 = pd.DataFrame(real_names1)\n",
    "final_pd1 = final_pd1.astype(str)\n",
    "final_pd1.index= tst.index\n",
    "final_pd1.columns= ['target']\n",
    "final_pd1.to_csv(\"/content/drive/My Drive/dphi_bootcamp/model1_ownModel_CNN_GPU_pred.csv\",index=False, header=False)"
   ]
  },
  {
   "cell_type": "code",
   "execution_count": null,
   "metadata": {
    "colab": {},
    "colab_type": "code",
    "id": "ayIKBpw6h3Wc"
   },
   "outputs": [],
   "source": [
    "# Test Model 2"
   ]
  },
  {
   "cell_type": "code",
   "execution_count": 22,
   "metadata": {
    "colab": {},
    "colab_type": "code",
    "id": "M3TGsVUSh3Wh"
   },
   "outputs": [],
   "source": [
    "model2 = load_model('/content/drive/My Drive/dphi_bootcamp/ownModel_3VGG_CNN_GPU150epochs.h5')"
   ]
  },
  {
   "cell_type": "code",
   "execution_count": 23,
   "metadata": {
    "colab": {},
    "colab_type": "code",
    "id": "BdkGLbO1h3Wn"
   },
   "outputs": [],
   "source": [
    "target_model2 = model2.predict(tst_images)"
   ]
  },
  {
   "cell_type": "code",
   "execution_count": 34,
   "metadata": {
    "colab": {
     "base_uri": "https://localhost:8080/",
     "height": 54
    },
    "colab_type": "code",
    "id": "PxXkqqJlh3Wp",
    "outputId": "0959571f-53c6-4ca0-8015-dd75918485d2"
   },
   "outputs": [
    {
     "name": "stdout",
     "output_type": "stream",
     "text": [
      "16/16 - 0s - loss: 1.1854 - accuracy: 0.7180\n",
      "0.7179999947547913\n"
     ]
    }
   ],
   "source": [
    "test_loss2, test_acc2 = model2.evaluate(x_test,  y_test, verbose=2)\n",
    "print(test_acc2) # x_test and y_test are from the split "
   ]
  },
  {
   "cell_type": "code",
   "execution_count": 24,
   "metadata": {
    "colab": {},
    "colab_type": "code",
    "id": "Y4kpkOsbh3Ws"
   },
   "outputs": [],
   "source": [
    "res_target2 = []\n",
    "real_names2 = []\n",
    "for i in range(0,910):\n",
    "    res_target2.append(np.argmax(target_model2[i]))\n",
    "    real_names2.append(str(\"'\")+animal_names[np.argmax(target_model2[i])]+str(\"'\"))"
   ]
  },
  {
   "cell_type": "code",
   "execution_count": 25,
   "metadata": {
    "colab": {},
    "colab_type": "code",
    "id": "scnjOqwnh3Wv"
   },
   "outputs": [],
   "source": [
    "final_pd2 = pd.DataFrame(real_names2)\n",
    "final_pd2 = final_pd2.astype(str)\n",
    "final_pd2.index= tst.index\n",
    "final_pd2.columns= ['target']\n",
    "final_pd2.to_csv(\"/content/drive/My Drive/dphi_bootcamp/model2_ownModel_3VGG_CNN_GPU150epochs_pred.csv\",index=False, header=False)"
   ]
  },
  {
   "cell_type": "code",
   "execution_count": null,
   "metadata": {
    "colab": {},
    "colab_type": "code",
    "id": "BZufSfbfh3Wz"
   },
   "outputs": [],
   "source": [
    "# Test Model 3"
   ]
  },
  {
   "cell_type": "code",
   "execution_count": 26,
   "metadata": {
    "colab": {},
    "colab_type": "code",
    "id": "88ieZEsfh3W5"
   },
   "outputs": [],
   "source": [
    "model3 = load_model('/content/drive/My Drive/dphi_bootcamp/model_vgg_transferLearning_GPU100epochs.h5')"
   ]
  },
  {
   "cell_type": "code",
   "execution_count": 27,
   "metadata": {
    "colab": {},
    "colab_type": "code",
    "id": "4dxMZSHYh3W-"
   },
   "outputs": [],
   "source": [
    "target_model3 = model3.predict(tst_images)"
   ]
  },
  {
   "cell_type": "code",
   "execution_count": 35,
   "metadata": {
    "colab": {
     "base_uri": "https://localhost:8080/",
     "height": 54
    },
    "colab_type": "code",
    "id": "5VtHm15rh3XC",
    "outputId": "08a39a82-67f5-4b98-cbf7-ff097ebb350e"
   },
   "outputs": [
    {
     "name": "stdout",
     "output_type": "stream",
     "text": [
      "16/16 - 1s - loss: 0.0702 - accuracy: 0.9620\n",
      "0.9620000123977661\n"
     ]
    }
   ],
   "source": [
    "test_loss3, test_acc3 = model3.evaluate(x_test,  y_test, verbose=2)\n",
    "print(test_acc3) # x_test and y_test are from the split "
   ]
  },
  {
   "cell_type": "code",
   "execution_count": 28,
   "metadata": {
    "colab": {},
    "colab_type": "code",
    "id": "EjSTCxWIh3XL"
   },
   "outputs": [],
   "source": [
    "res_target3 = []\n",
    "real_names3 = []\n",
    "for i in range(0,910):\n",
    "    res_target3.append(np.argmax(target_model3[i]))\n",
    "    real_names3.append(str(\"'\")+animal_names[np.argmax(target_model3[i])]+str(\"'\"))"
   ]
  },
  {
   "cell_type": "code",
   "execution_count": 29,
   "metadata": {
    "colab": {},
    "colab_type": "code",
    "id": "RRgVg6PRh3XT"
   },
   "outputs": [],
   "source": [
    "final_pd3 = pd.DataFrame(real_names3)\n",
    "final_pd3 = final_pd3.astype(str)\n",
    "final_pd3.index= tst.index\n",
    "final_pd3.columns= ['target']\n",
    "final_pd3.to_csv(\"/content/drive/My Drive/dphi_bootcamp/model3_model_vgg_transferLearning_GPU100epochs.csv\",index=False, header=False)"
   ]
  },
  {
   "cell_type": "code",
   "execution_count": null,
   "metadata": {
    "colab": {},
    "colab_type": "code",
    "id": "nzxaZaQvh3XX"
   },
   "outputs": [],
   "source": []
  },
  {
   "cell_type": "code",
   "execution_count": null,
   "metadata": {
    "colab": {},
    "colab_type": "code",
    "id": "7ne6492qh3Xd"
   },
   "outputs": [],
   "source": []
  },
  {
   "cell_type": "code",
   "execution_count": null,
   "metadata": {
    "colab": {},
    "colab_type": "code",
    "id": "dFBsYkUXh3Xk"
   },
   "outputs": [],
   "source": []
  },
  {
   "cell_type": "code",
   "execution_count": null,
   "metadata": {
    "colab": {},
    "colab_type": "code",
    "id": "GUwzn8LGh3Xq"
   },
   "outputs": [],
   "source": []
  }
 ],
 "metadata": {
  "accelerator": "GPU",
  "colab": {
   "collapsed_sections": [],
   "name": "Assignment2_Classifying5Animals_Models_Tests_Colab.ipynb",
   "provenance": []
  },
  "kernelspec": {
   "display_name": "Python 3",
   "language": "python",
   "name": "python3"
  },
  "language_info": {
   "codemirror_mode": {
    "name": "ipython",
    "version": 3
   },
   "file_extension": ".py",
   "mimetype": "text/x-python",
   "name": "python",
   "nbconvert_exporter": "python",
   "pygments_lexer": "ipython3",
   "version": "3.6.7"
  },
  "toc": {
   "base_numbering": 1,
   "nav_menu": {},
   "number_sections": true,
   "sideBar": true,
   "skip_h1_title": false,
   "title_cell": "Table of Contents",
   "title_sidebar": "Contents",
   "toc_cell": false,
   "toc_position": {},
   "toc_section_display": true,
   "toc_window_display": false
  },
  "widgets": {
   "application/vnd.jupyter.widget-state+json": {
    "22fda91e9e1b4457a753ba0d5b552e4b": {
     "model_module": "@jupyter-widgets/controls",
     "model_name": "HTMLModel",
     "state": {
      "_dom_classes": [],
      "_model_module": "@jupyter-widgets/controls",
      "_model_module_version": "1.5.0",
      "_model_name": "HTMLModel",
      "_view_count": null,
      "_view_module": "@jupyter-widgets/controls",
      "_view_module_version": "1.5.0",
      "_view_name": "HTMLView",
      "description": "",
      "description_tooltip": null,
      "layout": "IPY_MODEL_cd893a739f02424a81f57be57e6e9fdc",
      "placeholder": "​",
      "style": "IPY_MODEL_6a664ff996774ed59582f6b990215445",
      "value": " 910/910 [06:25&lt;00:00,  2.36it/s]"
     }
    },
    "3a786b4ec15c48d1944a5949ad531515": {
     "model_module": "@jupyter-widgets/controls",
     "model_name": "FloatProgressModel",
     "state": {
      "_dom_classes": [],
      "_model_module": "@jupyter-widgets/controls",
      "_model_module_version": "1.5.0",
      "_model_name": "FloatProgressModel",
      "_view_count": null,
      "_view_module": "@jupyter-widgets/controls",
      "_view_module_version": "1.5.0",
      "_view_name": "ProgressView",
      "bar_style": "success",
      "description": "100%",
      "description_tooltip": null,
      "layout": "IPY_MODEL_c2bacb10546d46fea2bd060ce40eb36e",
      "max": 910,
      "min": 0,
      "orientation": "horizontal",
      "style": "IPY_MODEL_b852ebdc6a8f4942ae9965828596397d",
      "value": 910
     }
    },
    "6a664ff996774ed59582f6b990215445": {
     "model_module": "@jupyter-widgets/controls",
     "model_name": "DescriptionStyleModel",
     "state": {
      "_model_module": "@jupyter-widgets/controls",
      "_model_module_version": "1.5.0",
      "_model_name": "DescriptionStyleModel",
      "_view_count": null,
      "_view_module": "@jupyter-widgets/base",
      "_view_module_version": "1.2.0",
      "_view_name": "StyleView",
      "description_width": ""
     }
    },
    "9cab27c5884c465b8fe37db4680141ca": {
     "model_module": "@jupyter-widgets/controls",
     "model_name": "HBoxModel",
     "state": {
      "_dom_classes": [],
      "_model_module": "@jupyter-widgets/controls",
      "_model_module_version": "1.5.0",
      "_model_name": "HBoxModel",
      "_view_count": null,
      "_view_module": "@jupyter-widgets/controls",
      "_view_module_version": "1.5.0",
      "_view_name": "HBoxView",
      "box_style": "",
      "children": [
       "IPY_MODEL_3a786b4ec15c48d1944a5949ad531515",
       "IPY_MODEL_22fda91e9e1b4457a753ba0d5b552e4b"
      ],
      "layout": "IPY_MODEL_deb601859eda40388a0eb9251da6b1e7"
     }
    },
    "b852ebdc6a8f4942ae9965828596397d": {
     "model_module": "@jupyter-widgets/controls",
     "model_name": "ProgressStyleModel",
     "state": {
      "_model_module": "@jupyter-widgets/controls",
      "_model_module_version": "1.5.0",
      "_model_name": "ProgressStyleModel",
      "_view_count": null,
      "_view_module": "@jupyter-widgets/base",
      "_view_module_version": "1.2.0",
      "_view_name": "StyleView",
      "bar_color": null,
      "description_width": "initial"
     }
    },
    "c2bacb10546d46fea2bd060ce40eb36e": {
     "model_module": "@jupyter-widgets/base",
     "model_name": "LayoutModel",
     "state": {
      "_model_module": "@jupyter-widgets/base",
      "_model_module_version": "1.2.0",
      "_model_name": "LayoutModel",
      "_view_count": null,
      "_view_module": "@jupyter-widgets/base",
      "_view_module_version": "1.2.0",
      "_view_name": "LayoutView",
      "align_content": null,
      "align_items": null,
      "align_self": null,
      "border": null,
      "bottom": null,
      "display": null,
      "flex": null,
      "flex_flow": null,
      "grid_area": null,
      "grid_auto_columns": null,
      "grid_auto_flow": null,
      "grid_auto_rows": null,
      "grid_column": null,
      "grid_gap": null,
      "grid_row": null,
      "grid_template_areas": null,
      "grid_template_columns": null,
      "grid_template_rows": null,
      "height": null,
      "justify_content": null,
      "justify_items": null,
      "left": null,
      "margin": null,
      "max_height": null,
      "max_width": null,
      "min_height": null,
      "min_width": null,
      "object_fit": null,
      "object_position": null,
      "order": null,
      "overflow": null,
      "overflow_x": null,
      "overflow_y": null,
      "padding": null,
      "right": null,
      "top": null,
      "visibility": null,
      "width": null
     }
    },
    "cd893a739f02424a81f57be57e6e9fdc": {
     "model_module": "@jupyter-widgets/base",
     "model_name": "LayoutModel",
     "state": {
      "_model_module": "@jupyter-widgets/base",
      "_model_module_version": "1.2.0",
      "_model_name": "LayoutModel",
      "_view_count": null,
      "_view_module": "@jupyter-widgets/base",
      "_view_module_version": "1.2.0",
      "_view_name": "LayoutView",
      "align_content": null,
      "align_items": null,
      "align_self": null,
      "border": null,
      "bottom": null,
      "display": null,
      "flex": null,
      "flex_flow": null,
      "grid_area": null,
      "grid_auto_columns": null,
      "grid_auto_flow": null,
      "grid_auto_rows": null,
      "grid_column": null,
      "grid_gap": null,
      "grid_row": null,
      "grid_template_areas": null,
      "grid_template_columns": null,
      "grid_template_rows": null,
      "height": null,
      "justify_content": null,
      "justify_items": null,
      "left": null,
      "margin": null,
      "max_height": null,
      "max_width": null,
      "min_height": null,
      "min_width": null,
      "object_fit": null,
      "object_position": null,
      "order": null,
      "overflow": null,
      "overflow_x": null,
      "overflow_y": null,
      "padding": null,
      "right": null,
      "top": null,
      "visibility": null,
      "width": null
     }
    },
    "deb601859eda40388a0eb9251da6b1e7": {
     "model_module": "@jupyter-widgets/base",
     "model_name": "LayoutModel",
     "state": {
      "_model_module": "@jupyter-widgets/base",
      "_model_module_version": "1.2.0",
      "_model_name": "LayoutModel",
      "_view_count": null,
      "_view_module": "@jupyter-widgets/base",
      "_view_module_version": "1.2.0",
      "_view_name": "LayoutView",
      "align_content": null,
      "align_items": null,
      "align_self": null,
      "border": null,
      "bottom": null,
      "display": null,
      "flex": null,
      "flex_flow": null,
      "grid_area": null,
      "grid_auto_columns": null,
      "grid_auto_flow": null,
      "grid_auto_rows": null,
      "grid_column": null,
      "grid_gap": null,
      "grid_row": null,
      "grid_template_areas": null,
      "grid_template_columns": null,
      "grid_template_rows": null,
      "height": null,
      "justify_content": null,
      "justify_items": null,
      "left": null,
      "margin": null,
      "max_height": null,
      "max_width": null,
      "min_height": null,
      "min_width": null,
      "object_fit": null,
      "object_position": null,
      "order": null,
      "overflow": null,
      "overflow_x": null,
      "overflow_y": null,
      "padding": null,
      "right": null,
      "top": null,
      "visibility": null,
      "width": null
     }
    }
   }
  }
 },
 "nbformat": 4,
 "nbformat_minor": 1
}
