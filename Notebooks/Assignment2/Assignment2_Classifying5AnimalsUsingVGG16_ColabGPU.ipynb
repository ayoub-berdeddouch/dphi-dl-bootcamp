{
 "cells": [
  {
   "cell_type": "markdown",
   "metadata": {
    "ExecuteTime": {
     "end_time": "2020-09-03T19:56:44.519914Z",
     "start_time": "2020-09-03T19:56:44.511919Z"
    },
    "colab_type": "text",
    "id": "wWE13odLuLKT"
   },
   "source": [
    "# Training of Model using Transfer learning VGG 16 on Colab GPU"
   ]
  },
  {
   "cell_type": "markdown",
   "metadata": {
    "colab_type": "text",
    "id": "60h_0B1FuLKN"
   },
   "source": [
    "# Load Libraries"
   ]
  },
  {
   "cell_type": "code",
   "execution_count": 2,
   "metadata": {
    "colab": {
     "base_uri": "https://localhost:8080/",
     "height": 128
    },
    "colab_type": "code",
    "id": "flJuHzizuoVe",
    "outputId": "07d478ac-1e5b-4eb2-c855-463d50537ee7"
   },
   "outputs": [
    {
     "name": "stdout",
     "output_type": "stream",
     "text": [
      "Go to this URL in a browser: https://accounts.google.com/o/oauth2/auth?client_id=947318989803-6bn6qk8qdgf4n4g3pfee6491hc0brc4i.apps.googleusercontent.com&redirect_uri=urn%3aietf%3awg%3aoauth%3a2.0%3aoob&scope=email%20https%3a%2f%2fwww.googleapis.com%2fauth%2fdocs.test%20https%3a%2f%2fwww.googleapis.com%2fauth%2fdrive%20https%3a%2f%2fwww.googleapis.com%2fauth%2fdrive.photos.readonly%20https%3a%2f%2fwww.googleapis.com%2fauth%2fpeopleapi.readonly&response_type=code\n",
      "\n",
      "Enter your authorization code:\n",
      "··········\n",
      "Mounted at /content/drive\n"
     ]
    }
   ],
   "source": [
    "from google.colab import drive\n",
    "drive.mount('/content/drive')"
   ]
  },
  {
   "cell_type": "code",
   "execution_count": 3,
   "metadata": {
    "ExecuteTime": {
     "end_time": "2020-09-03T19:33:03.028201Z",
     "start_time": "2020-09-03T19:32:52.971159Z"
    },
    "colab": {},
    "colab_type": "code",
    "id": "HdRka79duLKO"
   },
   "outputs": [],
   "source": [
    "import numpy as np\n",
    "import pandas as pd\n",
    "import os\n",
    "import cv2\n",
    "import matplotlib.pyplot as plt\n",
    "from tqdm import tqdm_notebook as tqdm\n",
    "from sklearn.utils import class_weight, shuffle\n",
    "\n",
    "from tensorflow.keras import applications\n",
    "from tensorflow.keras import optimizers\n",
    "from tensorflow.keras.utils import to_categorical\n",
    "from tensorflow.keras.models import Sequential, Model, load_model\n",
    "from tensorflow.keras.layers import Dropout, Flatten, Dense\n",
    "from tensorflow.keras.preprocessing.image import ImageDataGenerator\n",
    "from tensorflow.keras.callbacks import ModelCheckpoint"
   ]
  },
  {
   "cell_type": "code",
   "execution_count": 4,
   "metadata": {
    "colab": {
     "base_uri": "https://localhost:8080/",
     "height": 54
    },
    "colab_type": "code",
    "id": "KPYCY4UFvX2q",
    "outputId": "55b70bd0-0091-4aa0-923c-29d47808e6e2"
   },
   "outputs": [
    {
     "name": "stdout",
     "output_type": "stream",
     "text": [
      "animal_names.npy\t\t      ownModel_CNN_GPU.h5  x.npy\n",
      "ownModel_CNN_4layers_GPU100epochs.h5  test_images.npy\t   y.npy\n"
     ]
    }
   ],
   "source": [
    "# On Colab using GPU \n",
    "!ls '/content/drive/My Drive/dphi_bootcamp'"
   ]
  },
  {
   "cell_type": "code",
   "execution_count": 5,
   "metadata": {
    "colab": {},
    "colab_type": "code",
    "id": "fiK1LeDJvbwF"
   },
   "outputs": [],
   "source": [
    "x = np.load('/content/drive/My Drive/dphi_bootcamp/x.npy')\n",
    "y = np.load('/content/drive/My Drive/dphi_bootcamp/y.npy')\n",
    "animal_names = np.load('/content/drive/My Drive/dphi_bootcamp/animal_names.npy')\n",
    "test_images = np.load('/content/drive/My Drive/dphi_bootcamp/test_images.npy')\n"
   ]
  },
  {
   "cell_type": "code",
   "execution_count": 7,
   "metadata": {
    "colab": {
     "base_uri": "https://localhost:8080/",
     "height": 163
    },
    "colab_type": "code",
    "id": "ZsWtnMokvlAu",
    "outputId": "8cfebe3d-2729-4a40-d922-06d33a6c27e8"
   },
   "outputs": [
    {
     "name": "stdout",
     "output_type": "stream",
     "text": [
      "x_train (2000, 224, 224, 3)\n",
      "y_train (2000,)\n",
      "########################\n",
      "x_test (500, 224, 224, 3)\n",
      "y_test (500,)\n",
      "x_train Shape: (2000, 224, 224, 3) \t x_test Shape: (2000, 224, 224, 3)\n",
      "y_train Shape:  (2000, 5) \t y_test Shape: (2000, 5)\n",
      "image Shape: (224, 224, 3)\n"
     ]
    }
   ],
   "source": [
    "### Train val split, OneHotVectorizing categories, Input normalization\n",
    "###################################################################\n",
    "\n",
    "#Train val split\n",
    "val_split_num = int(round(0.2*len(y)))\n",
    "\n",
    "x_train = x[val_split_num:]\n",
    "y_train = y[val_split_num:]\n",
    "\n",
    "x_test = x[:val_split_num]\n",
    "y_test = y[:val_split_num]\n",
    "\n",
    "print('x_train', x_train.shape)\n",
    "print('y_train', y_train.shape)\n",
    "print('########################')\n",
    "print('x_test', x_test.shape)\n",
    "print('y_test', y_test.shape)\n",
    "\n",
    "# OneHotVectorizing categories\n",
    "y_train = to_categorical(y_train)\n",
    "y_test = to_categorical(y_test)\n",
    "\n",
    "# Input normalization\n",
    "x_train = x_train.astype('float32')\n",
    "x_test = x_test.astype('float32')\n",
    "\n",
    "x_train /= 255\n",
    "x_test /= 255\n",
    "\n",
    "print('x_train Shape:', x_train.shape, '\\t x_test Shape:',x_train.shape)\n",
    "print('y_train Shape: ', y_train.shape, '\\t y_test Shape:',y_train.shape)\n",
    "print('image Shape:', x_train[0].shape)"
   ]
  },
  {
   "cell_type": "markdown",
   "metadata": {},
   "source": [
    "##  Now Let us define a suitable deep net. VGG16 __ Transfer Learning.\n",
    "\n",
    "\n",
    "\n",
    "\n",
    " * Architecture : __VGG16__\n",
    " * Weights  : __Imagenet__\n",
    " * Activation : __Relu__\n",
    " * Dropout : __20%__\n",
    " * Units : __256 Units__\n",
    " * output : __Softmax__ & __5__ classes.\n"
   ]
  },
  {
   "cell_type": "code",
   "execution_count": 8,
   "metadata": {
    "ExecuteTime": {
     "end_time": "2020-09-03T16:19:57.662730Z",
     "start_time": "2020-09-03T16:19:56.568226Z"
    },
    "colab": {
     "base_uri": "https://localhost:8080/",
     "height": 926
    },
    "colab_type": "code",
    "id": "itS0LcQluLLJ",
    "outputId": "05263ee7-7c3e-4940-aab6-dd5bc2b74eb3"
   },
   "outputs": [
    {
     "name": "stdout",
     "output_type": "stream",
     "text": [
      "Downloading data from https://storage.googleapis.com/tensorflow/keras-applications/vgg16/vgg16_weights_tf_dim_ordering_tf_kernels_notop.h5\n",
      "58892288/58889256 [==============================] - 0s 0us/step\n",
      "Model: \"functional_1\"\n",
      "_________________________________________________________________\n",
      "Layer (type)                 Output Shape              Param #   \n",
      "=================================================================\n",
      "input_1 (InputLayer)         [(None, 224, 224, 3)]     0         \n",
      "_________________________________________________________________\n",
      "block1_conv1 (Conv2D)        (None, 224, 224, 64)      1792      \n",
      "_________________________________________________________________\n",
      "block1_conv2 (Conv2D)        (None, 224, 224, 64)      36928     \n",
      "_________________________________________________________________\n",
      "block1_pool (MaxPooling2D)   (None, 112, 112, 64)      0         \n",
      "_________________________________________________________________\n",
      "block2_conv1 (Conv2D)        (None, 112, 112, 128)     73856     \n",
      "_________________________________________________________________\n",
      "block2_conv2 (Conv2D)        (None, 112, 112, 128)     147584    \n",
      "_________________________________________________________________\n",
      "block2_pool (MaxPooling2D)   (None, 56, 56, 128)       0         \n",
      "_________________________________________________________________\n",
      "block3_conv1 (Conv2D)        (None, 56, 56, 256)       295168    \n",
      "_________________________________________________________________\n",
      "block3_conv2 (Conv2D)        (None, 56, 56, 256)       590080    \n",
      "_________________________________________________________________\n",
      "block3_conv3 (Conv2D)        (None, 56, 56, 256)       590080    \n",
      "_________________________________________________________________\n",
      "block3_pool (MaxPooling2D)   (None, 28, 28, 256)       0         \n",
      "_________________________________________________________________\n",
      "block4_conv1 (Conv2D)        (None, 28, 28, 512)       1180160   \n",
      "_________________________________________________________________\n",
      "block4_conv2 (Conv2D)        (None, 28, 28, 512)       2359808   \n",
      "_________________________________________________________________\n",
      "block4_conv3 (Conv2D)        (None, 28, 28, 512)       2359808   \n",
      "_________________________________________________________________\n",
      "block4_pool (MaxPooling2D)   (None, 14, 14, 512)       0         \n",
      "_________________________________________________________________\n",
      "block5_conv1 (Conv2D)        (None, 14, 14, 512)       2359808   \n",
      "_________________________________________________________________\n",
      "block5_conv2 (Conv2D)        (None, 14, 14, 512)       2359808   \n",
      "_________________________________________________________________\n",
      "block5_conv3 (Conv2D)        (None, 14, 14, 512)       2359808   \n",
      "_________________________________________________________________\n",
      "block5_pool (MaxPooling2D)   (None, 7, 7, 512)         0         \n",
      "_________________________________________________________________\n",
      "sequential (Sequential)      (None, 5)                 6424069   \n",
      "=================================================================\n",
      "Total params: 21,138,757\n",
      "Trainable params: 21,138,757\n",
      "Non-trainable params: 0\n",
      "_________________________________________________________________\n"
     ]
    }
   ],
   "source": [
    "# Creating a Convolutional Neural Network using VGG16\n",
    "\n",
    "rows,cols,channel = 224, 224, 3\n",
    "\n",
    "epochs = 25\n",
    "learning_rate = 0.001\n",
    "decay_rate = learning_rate / epochs\n",
    "momentum =0.9\n",
    "sgd= optimizers.SGD(lr=learning_rate, momentum=momentum,\n",
    "                      decay=decay_rate, nesterov=False)\n",
    "\n",
    "base_model1 = applications.VGG16(weights='imagenet', include_top=False,\n",
    "                                    input_shape=(224,224,3))\n",
    "model1 = Sequential()\n",
    "model1.add(Flatten(input_shape= base_model1.output_shape[1:]))\n",
    "model1.add(Dense(256, activation='relu'))\n",
    "model1.add(Dense(5, activation='softmax')) # OUtput 5 classes\n",
    "\n",
    "vgg16_model = Model(inputs=base_model1.input,\n",
    "                        outputs=model1(base_model1.output))\n",
    "\n",
    "vgg16_model.compile(loss='binary_crossentropy',\n",
    "                        optimizer=sgd,metrics=['accuracy'])\n",
    "vgg16_model.summary()\n",
    "\n"
   ]
  },
  {
   "cell_type": "code",
   "execution_count": 9,
   "metadata": {
    "ExecuteTime": {
     "end_time": "2020-09-03T16:20:03.313912Z",
     "start_time": "2020-09-03T16:20:01.063143Z"
    },
    "colab": {},
    "colab_type": "code",
    "id": "zO5k1lQHuLLN"
   },
   "outputs": [],
   "source": [
    "#  Data Augmentation\n",
    "\n",
    "# ImageDataGenerator for data augmentation \n",
    "\n",
    "train_data_gen = ImageDataGenerator(\n",
    "                rotation_range=30, \n",
    "                width_shift_range=0.1,\n",
    "                height_shift_range=0.1, \n",
    "                horizontal_flip=True)\n",
    "train_data_gen.fit(x_train) "
   ]
  },
  {
   "cell_type": "code",
   "execution_count": 10,
   "metadata": {
    "ExecuteTime": {
     "end_time": "2020-09-03T17:57:21.816793Z",
     "start_time": "2020-09-03T16:29:59.683193Z"
    },
    "colab": {
     "base_uri": "https://localhost:8080/",
     "height": 1000
    },
    "colab_type": "code",
    "id": "Nll19TOruLLR",
    "outputId": "472b24c8-f90a-424d-ac38-3d2a63fec100"
   },
   "outputs": [
    {
     "name": "stdout",
     "output_type": "stream",
     "text": [
      "WARNING:tensorflow:From <ipython-input-10-11b56f6b6345>:9: Model.fit_generator (from tensorflow.python.keras.engine.training) is deprecated and will be removed in a future version.\n",
      "Instructions for updating:\n",
      "Please use Model.fit, which supports generators.\n",
      "Epoch 1/100\n",
      " 2/63 [..............................] - ETA: 11s - loss: 0.5388 - accuracy: 0.2188WARNING:tensorflow:Callbacks method `on_train_batch_end` is slow compared to the batch time (batch time: 0.1128s vs `on_train_batch_end` time: 0.2640s). Check your callbacks.\n",
      "63/63 [==============================] - ETA: 0s - loss: 0.3886 - accuracy: 0.5015WARNING:tensorflow:From /usr/local/lib/python3.6/dist-packages/tensorflow/python/training/tracking/tracking.py:111: Model.state_updates (from tensorflow.python.keras.engine.training) is deprecated and will be removed in a future version.\n",
      "Instructions for updating:\n",
      "This property should not be used in TensorFlow 2.0, as updates are applied automatically.\n",
      "WARNING:tensorflow:From /usr/local/lib/python3.6/dist-packages/tensorflow/python/training/tracking/tracking.py:111: Layer.updates (from tensorflow.python.keras.engine.base_layer) is deprecated and will be removed in a future version.\n",
      "Instructions for updating:\n",
      "This property should not be used in TensorFlow 2.0, as updates are applied automatically.\n",
      "INFO:tensorflow:Assets written to: VGG16-transferlearning.model/assets\n",
      "63/63 [==============================] - 34s 544ms/step - loss: 0.3886 - accuracy: 0.5015 - val_loss: 0.2765 - val_accuracy: 0.6960\n",
      "Epoch 2/100\n",
      "63/63 [==============================] - ETA: 0s - loss: 0.2080 - accuracy: 0.7760INFO:tensorflow:Assets written to: VGG16-transferlearning.model/assets\n",
      "63/63 [==============================] - 32s 509ms/step - loss: 0.2080 - accuracy: 0.7760 - val_loss: 0.1258 - val_accuracy: 0.8540\n",
      "Epoch 3/100\n",
      "63/63 [==============================] - ETA: 0s - loss: 0.1396 - accuracy: 0.8530INFO:tensorflow:Assets written to: VGG16-transferlearning.model/assets\n",
      "63/63 [==============================] - 32s 515ms/step - loss: 0.1396 - accuracy: 0.8530 - val_loss: 0.0911 - val_accuracy: 0.9000\n",
      "Epoch 4/100\n",
      "63/63 [==============================] - ETA: 0s - loss: 0.1010 - accuracy: 0.8970INFO:tensorflow:Assets written to: VGG16-transferlearning.model/assets\n",
      "63/63 [==============================] - 32s 513ms/step - loss: 0.1010 - accuracy: 0.8970 - val_loss: 0.0735 - val_accuracy: 0.9140\n",
      "Epoch 5/100\n",
      "63/63 [==============================] - ETA: 0s - loss: 0.0905 - accuracy: 0.9070INFO:tensorflow:Assets written to: VGG16-transferlearning.model/assets\n",
      "63/63 [==============================] - 33s 521ms/step - loss: 0.0905 - accuracy: 0.9070 - val_loss: 0.0941 - val_accuracy: 0.8980\n",
      "Epoch 6/100\n",
      "63/63 [==============================] - ETA: 0s - loss: 0.0585 - accuracy: 0.9445INFO:tensorflow:Assets written to: VGG16-transferlearning.model/assets\n",
      "63/63 [==============================] - 33s 523ms/step - loss: 0.0585 - accuracy: 0.9445 - val_loss: 0.0755 - val_accuracy: 0.9200\n",
      "Epoch 7/100\n",
      "63/63 [==============================] - ETA: 0s - loss: 0.0454 - accuracy: 0.9555INFO:tensorflow:Assets written to: VGG16-transferlearning.model/assets\n",
      "63/63 [==============================] - 33s 524ms/step - loss: 0.0454 - accuracy: 0.9555 - val_loss: 0.0739 - val_accuracy: 0.9140\n",
      "Epoch 8/100\n",
      "63/63 [==============================] - ETA: 0s - loss: 0.0378 - accuracy: 0.9655INFO:tensorflow:Assets written to: VGG16-transferlearning.model/assets\n",
      "63/63 [==============================] - 34s 540ms/step - loss: 0.0378 - accuracy: 0.9655 - val_loss: 0.0697 - val_accuracy: 0.9200\n",
      "Epoch 9/100\n",
      "63/63 [==============================] - ETA: 0s - loss: 0.0454 - accuracy: 0.9545INFO:tensorflow:Assets written to: VGG16-transferlearning.model/assets\n",
      "63/63 [==============================] - 34s 536ms/step - loss: 0.0454 - accuracy: 0.9545 - val_loss: 0.0903 - val_accuracy: 0.9120\n",
      "Epoch 10/100\n",
      "63/63 [==============================] - ETA: 0s - loss: 0.0334 - accuracy: 0.9710INFO:tensorflow:Assets written to: VGG16-transferlearning.model/assets\n",
      "63/63 [==============================] - 33s 528ms/step - loss: 0.0334 - accuracy: 0.9710 - val_loss: 0.0919 - val_accuracy: 0.9020\n",
      "Epoch 11/100\n",
      "63/63 [==============================] - ETA: 0s - loss: 0.0193 - accuracy: 0.9855INFO:tensorflow:Assets written to: VGG16-transferlearning.model/assets\n",
      "63/63 [==============================] - 33s 527ms/step - loss: 0.0193 - accuracy: 0.9855 - val_loss: 0.0601 - val_accuracy: 0.9380\n",
      "Epoch 12/100\n",
      "63/63 [==============================] - ETA: 0s - loss: 0.0188 - accuracy: 0.9845INFO:tensorflow:Assets written to: VGG16-transferlearning.model/assets\n",
      "63/63 [==============================] - 34s 533ms/step - loss: 0.0188 - accuracy: 0.9845 - val_loss: 0.0706 - val_accuracy: 0.9320\n",
      "Epoch 13/100\n",
      "63/63 [==============================] - ETA: 0s - loss: 0.0216 - accuracy: 0.9815INFO:tensorflow:Assets written to: VGG16-transferlearning.model/assets\n",
      "63/63 [==============================] - 34s 535ms/step - loss: 0.0216 - accuracy: 0.9815 - val_loss: 0.0803 - val_accuracy: 0.9200\n",
      "Epoch 14/100\n",
      "63/63 [==============================] - ETA: 0s - loss: 0.0178 - accuracy: 0.9845INFO:tensorflow:Assets written to: VGG16-transferlearning.model/assets\n",
      "63/63 [==============================] - 33s 527ms/step - loss: 0.0178 - accuracy: 0.9845 - val_loss: 0.0834 - val_accuracy: 0.9240\n",
      "Epoch 15/100\n",
      "63/63 [==============================] - ETA: 0s - loss: 0.0189 - accuracy: 0.9785INFO:tensorflow:Assets written to: VGG16-transferlearning.model/assets\n",
      "63/63 [==============================] - 33s 524ms/step - loss: 0.0189 - accuracy: 0.9785 - val_loss: 0.0658 - val_accuracy: 0.9500\n",
      "Epoch 16/100\n",
      "63/63 [==============================] - ETA: 0s - loss: 0.0233 - accuracy: 0.9790INFO:tensorflow:Assets written to: VGG16-transferlearning.model/assets\n",
      "63/63 [==============================] - 33s 528ms/step - loss: 0.0233 - accuracy: 0.9790 - val_loss: 0.0620 - val_accuracy: 0.9440\n",
      "Epoch 17/100\n",
      "63/63 [==============================] - ETA: 0s - loss: 0.0189 - accuracy: 0.9840INFO:tensorflow:Assets written to: VGG16-transferlearning.model/assets\n",
      "63/63 [==============================] - 33s 526ms/step - loss: 0.0189 - accuracy: 0.9840 - val_loss: 0.0557 - val_accuracy: 0.9520\n",
      "Epoch 18/100\n",
      "63/63 [==============================] - ETA: 0s - loss: 0.0125 - accuracy: 0.9905INFO:tensorflow:Assets written to: VGG16-transferlearning.model/assets\n",
      "63/63 [==============================] - 33s 525ms/step - loss: 0.0125 - accuracy: 0.9905 - val_loss: 0.0633 - val_accuracy: 0.9480\n",
      "Epoch 19/100\n",
      "63/63 [==============================] - ETA: 0s - loss: 0.0110 - accuracy: 0.9895INFO:tensorflow:Assets written to: VGG16-transferlearning.model/assets\n",
      "63/63 [==============================] - 33s 527ms/step - loss: 0.0110 - accuracy: 0.9895 - val_loss: 0.0700 - val_accuracy: 0.9360\n",
      "Epoch 20/100\n",
      "63/63 [==============================] - ETA: 0s - loss: 0.0078 - accuracy: 0.9945INFO:tensorflow:Assets written to: VGG16-transferlearning.model/assets\n",
      "63/63 [==============================] - 33s 522ms/step - loss: 0.0078 - accuracy: 0.9945 - val_loss: 0.0689 - val_accuracy: 0.9420\n",
      "Epoch 21/100\n",
      "63/63 [==============================] - ETA: 0s - loss: 0.0129 - accuracy: 0.9900INFO:tensorflow:Assets written to: VGG16-transferlearning.model/assets\n",
      "63/63 [==============================] - 33s 525ms/step - loss: 0.0129 - accuracy: 0.9900 - val_loss: 0.0757 - val_accuracy: 0.9360\n",
      "Epoch 22/100\n",
      "63/63 [==============================] - ETA: 0s - loss: 0.0177 - accuracy: 0.9855INFO:tensorflow:Assets written to: VGG16-transferlearning.model/assets\n",
      "63/63 [==============================] - 33s 522ms/step - loss: 0.0177 - accuracy: 0.9855 - val_loss: 0.1209 - val_accuracy: 0.9040\n",
      "Epoch 23/100\n",
      "63/63 [==============================] - ETA: 0s - loss: 0.0166 - accuracy: 0.9865INFO:tensorflow:Assets written to: VGG16-transferlearning.model/assets\n",
      "63/63 [==============================] - 33s 523ms/step - loss: 0.0166 - accuracy: 0.9865 - val_loss: 0.0590 - val_accuracy: 0.9500\n",
      "Epoch 24/100\n",
      "63/63 [==============================] - ETA: 0s - loss: 0.0067 - accuracy: 0.9945INFO:tensorflow:Assets written to: VGG16-transferlearning.model/assets\n",
      "63/63 [==============================] - 33s 521ms/step - loss: 0.0067 - accuracy: 0.9945 - val_loss: 0.0658 - val_accuracy: 0.9500\n",
      "Epoch 25/100\n",
      "63/63 [==============================] - ETA: 0s - loss: 0.0068 - accuracy: 0.9955INFO:tensorflow:Assets written to: VGG16-transferlearning.model/assets\n",
      "63/63 [==============================] - 33s 524ms/step - loss: 0.0068 - accuracy: 0.9955 - val_loss: 0.0689 - val_accuracy: 0.9520\n",
      "Epoch 26/100\n",
      "63/63 [==============================] - ETA: 0s - loss: 0.0036 - accuracy: 0.9980INFO:tensorflow:Assets written to: VGG16-transferlearning.model/assets\n",
      "63/63 [==============================] - 33s 523ms/step - loss: 0.0036 - accuracy: 0.9980 - val_loss: 0.0697 - val_accuracy: 0.9420\n",
      "Epoch 27/100\n",
      "63/63 [==============================] - ETA: 0s - loss: 0.0024 - accuracy: 0.9985INFO:tensorflow:Assets written to: VGG16-transferlearning.model/assets\n",
      "63/63 [==============================] - 33s 525ms/step - loss: 0.0024 - accuracy: 0.9985 - val_loss: 0.0711 - val_accuracy: 0.9420\n",
      "Epoch 28/100\n",
      "63/63 [==============================] - ETA: 0s - loss: 0.0019 - accuracy: 0.9995INFO:tensorflow:Assets written to: VGG16-transferlearning.model/assets\n",
      "63/63 [==============================] - 33s 521ms/step - loss: 0.0019 - accuracy: 0.9995 - val_loss: 0.0700 - val_accuracy: 0.9540\n",
      "Epoch 29/100\n",
      "63/63 [==============================] - ETA: 0s - loss: 0.0037 - accuracy: 0.9975INFO:tensorflow:Assets written to: VGG16-transferlearning.model/assets\n",
      "63/63 [==============================] - 33s 524ms/step - loss: 0.0037 - accuracy: 0.9975 - val_loss: 0.1022 - val_accuracy: 0.9380\n",
      "Epoch 30/100\n",
      "63/63 [==============================] - ETA: 0s - loss: 0.0033 - accuracy: 0.9980INFO:tensorflow:Assets written to: VGG16-transferlearning.model/assets\n",
      "63/63 [==============================] - 33s 519ms/step - loss: 0.0033 - accuracy: 0.9980 - val_loss: 0.1224 - val_accuracy: 0.9180\n",
      "Epoch 31/100\n",
      "63/63 [==============================] - ETA: 0s - loss: 0.0090 - accuracy: 0.9905INFO:tensorflow:Assets written to: VGG16-transferlearning.model/assets\n",
      "63/63 [==============================] - 33s 523ms/step - loss: 0.0090 - accuracy: 0.9905 - val_loss: 0.0972 - val_accuracy: 0.9280\n",
      "Epoch 32/100\n",
      "63/63 [==============================] - ETA: 0s - loss: 0.0098 - accuracy: 0.9915INFO:tensorflow:Assets written to: VGG16-transferlearning.model/assets\n",
      "63/63 [==============================] - 33s 521ms/step - loss: 0.0098 - accuracy: 0.9915 - val_loss: 0.0745 - val_accuracy: 0.9340\n",
      "Epoch 33/100\n",
      "63/63 [==============================] - ETA: 0s - loss: 0.0057 - accuracy: 0.9950INFO:tensorflow:Assets written to: VGG16-transferlearning.model/assets\n",
      "63/63 [==============================] - 33s 518ms/step - loss: 0.0057 - accuracy: 0.9950 - val_loss: 0.0742 - val_accuracy: 0.9460\n",
      "Epoch 34/100\n",
      "63/63 [==============================] - ETA: 0s - loss: 0.0030 - accuracy: 0.9990INFO:tensorflow:Assets written to: VGG16-transferlearning.model/assets\n",
      "63/63 [==============================] - 33s 525ms/step - loss: 0.0030 - accuracy: 0.9990 - val_loss: 0.0820 - val_accuracy: 0.9300\n",
      "Epoch 35/100\n",
      "63/63 [==============================] - ETA: 0s - loss: 0.0026 - accuracy: 0.9990INFO:tensorflow:Assets written to: VGG16-transferlearning.model/assets\n",
      "63/63 [==============================] - 33s 520ms/step - loss: 0.0026 - accuracy: 0.9990 - val_loss: 0.0706 - val_accuracy: 0.9600\n",
      "Epoch 36/100\n",
      "63/63 [==============================] - ETA: 0s - loss: 0.0026 - accuracy: 0.9980INFO:tensorflow:Assets written to: VGG16-transferlearning.model/assets\n",
      "63/63 [==============================] - 34s 533ms/step - loss: 0.0026 - accuracy: 0.9980 - val_loss: 0.0658 - val_accuracy: 0.9380\n",
      "Epoch 37/100\n",
      "63/63 [==============================] - ETA: 0s - loss: 0.0017 - accuracy: 0.9995INFO:tensorflow:Assets written to: VGG16-transferlearning.model/assets\n",
      "63/63 [==============================] - 33s 524ms/step - loss: 0.0017 - accuracy: 0.9995 - val_loss: 0.0871 - val_accuracy: 0.9360\n",
      "Epoch 38/100\n",
      "63/63 [==============================] - ETA: 0s - loss: 0.0056 - accuracy: 0.9945INFO:tensorflow:Assets written to: VGG16-transferlearning.model/assets\n",
      "63/63 [==============================] - 33s 524ms/step - loss: 0.0056 - accuracy: 0.9945 - val_loss: 0.0701 - val_accuracy: 0.9500\n",
      "Epoch 39/100\n",
      "63/63 [==============================] - ETA: 0s - loss: 0.0021 - accuracy: 0.9985INFO:tensorflow:Assets written to: VGG16-transferlearning.model/assets\n",
      "63/63 [==============================] - 33s 521ms/step - loss: 0.0021 - accuracy: 0.9985 - val_loss: 0.0774 - val_accuracy: 0.9480\n",
      "Epoch 40/100\n",
      "63/63 [==============================] - ETA: 0s - loss: 0.0010 - accuracy: 1.0000INFO:tensorflow:Assets written to: VGG16-transferlearning.model/assets\n",
      "63/63 [==============================] - 33s 520ms/step - loss: 0.0010 - accuracy: 1.0000 - val_loss: 0.0781 - val_accuracy: 0.9520\n",
      "Epoch 41/100\n",
      "63/63 [==============================] - ETA: 0s - loss: 0.0051 - accuracy: 0.9955INFO:tensorflow:Assets written to: VGG16-transferlearning.model/assets\n",
      "63/63 [==============================] - 33s 522ms/step - loss: 0.0051 - accuracy: 0.9955 - val_loss: 0.0979 - val_accuracy: 0.9280\n",
      "Epoch 42/100\n",
      "63/63 [==============================] - ETA: 0s - loss: 0.0024 - accuracy: 0.9995INFO:tensorflow:Assets written to: VGG16-transferlearning.model/assets\n",
      "63/63 [==============================] - 33s 524ms/step - loss: 0.0024 - accuracy: 0.9995 - val_loss: 0.0719 - val_accuracy: 0.9600\n",
      "Epoch 43/100\n",
      "63/63 [==============================] - ETA: 0s - loss: 0.0013 - accuracy: 0.9990INFO:tensorflow:Assets written to: VGG16-transferlearning.model/assets\n",
      "63/63 [==============================] - 33s 523ms/step - loss: 0.0013 - accuracy: 0.9990 - val_loss: 0.0907 - val_accuracy: 0.9380\n",
      "Epoch 44/100\n",
      "63/63 [==============================] - ETA: 0s - loss: 0.0025 - accuracy: 0.9975INFO:tensorflow:Assets written to: VGG16-transferlearning.model/assets\n",
      "63/63 [==============================] - 33s 523ms/step - loss: 0.0025 - accuracy: 0.9975 - val_loss: 0.0831 - val_accuracy: 0.9360\n",
      "Epoch 45/100\n",
      "63/63 [==============================] - ETA: 0s - loss: 0.0020 - accuracy: 0.9975INFO:tensorflow:Assets written to: VGG16-transferlearning.model/assets\n",
      "63/63 [==============================] - 33s 525ms/step - loss: 0.0020 - accuracy: 0.9975 - val_loss: 0.0767 - val_accuracy: 0.9440\n",
      "Epoch 46/100\n",
      "63/63 [==============================] - ETA: 0s - loss: 0.0017 - accuracy: 0.9990INFO:tensorflow:Assets written to: VGG16-transferlearning.model/assets\n",
      "63/63 [==============================] - 33s 523ms/step - loss: 0.0017 - accuracy: 0.9990 - val_loss: 0.0595 - val_accuracy: 0.9500\n",
      "Epoch 47/100\n",
      "63/63 [==============================] - ETA: 0s - loss: 0.0011 - accuracy: 0.9995INFO:tensorflow:Assets written to: VGG16-transferlearning.model/assets\n",
      "63/63 [==============================] - 33s 522ms/step - loss: 0.0011 - accuracy: 0.9995 - val_loss: 0.0715 - val_accuracy: 0.9480\n",
      "Epoch 48/100\n",
      "63/63 [==============================] - ETA: 0s - loss: 7.3699e-04 - accuracy: 0.9995INFO:tensorflow:Assets written to: VGG16-transferlearning.model/assets\n",
      "63/63 [==============================] - 33s 522ms/step - loss: 7.3699e-04 - accuracy: 0.9995 - val_loss: 0.0722 - val_accuracy: 0.9440\n",
      "Epoch 49/100\n",
      "63/63 [==============================] - ETA: 0s - loss: 0.0012 - accuracy: 0.9990    INFO:tensorflow:Assets written to: VGG16-transferlearning.model/assets\n",
      "63/63 [==============================] - 33s 523ms/step - loss: 0.0012 - accuracy: 0.9990 - val_loss: 0.1091 - val_accuracy: 0.9360\n",
      "Epoch 50/100\n",
      "63/63 [==============================] - ETA: 0s - loss: 0.0018 - accuracy: 0.9990INFO:tensorflow:Assets written to: VGG16-transferlearning.model/assets\n",
      "63/63 [==============================] - 33s 519ms/step - loss: 0.0018 - accuracy: 0.9990 - val_loss: 0.0842 - val_accuracy: 0.9500\n",
      "Epoch 51/100\n",
      "63/63 [==============================] - ETA: 0s - loss: 0.0014 - accuracy: 0.9990INFO:tensorflow:Assets written to: VGG16-transferlearning.model/assets\n",
      "63/63 [==============================] - 33s 523ms/step - loss: 0.0014 - accuracy: 0.9990 - val_loss: 0.0777 - val_accuracy: 0.9540\n",
      "Epoch 52/100\n",
      "63/63 [==============================] - ETA: 0s - loss: 3.2509e-04 - accuracy: 1.0000INFO:tensorflow:Assets written to: VGG16-transferlearning.model/assets\n",
      "63/63 [==============================] - 33s 521ms/step - loss: 3.2509e-04 - accuracy: 1.0000 - val_loss: 0.0729 - val_accuracy: 0.9420\n",
      "Epoch 53/100\n",
      "63/63 [==============================] - ETA: 0s - loss: 3.0912e-04 - accuracy: 1.0000INFO:tensorflow:Assets written to: VGG16-transferlearning.model/assets\n",
      "63/63 [==============================] - 33s 525ms/step - loss: 3.0912e-04 - accuracy: 1.0000 - val_loss: 0.0726 - val_accuracy: 0.9520\n",
      "Epoch 54/100\n",
      "63/63 [==============================] - ETA: 0s - loss: 2.2732e-04 - accuracy: 1.0000INFO:tensorflow:Assets written to: VGG16-transferlearning.model/assets\n",
      "63/63 [==============================] - 33s 526ms/step - loss: 2.2732e-04 - accuracy: 1.0000 - val_loss: 0.0732 - val_accuracy: 0.9540\n",
      "Epoch 55/100\n",
      "63/63 [==============================] - ETA: 0s - loss: 7.7654e-04 - accuracy: 0.9995INFO:tensorflow:Assets written to: VGG16-transferlearning.model/assets\n",
      "63/63 [==============================] - 33s 525ms/step - loss: 7.7654e-04 - accuracy: 0.9995 - val_loss: 0.0702 - val_accuracy: 0.9460\n",
      "Epoch 56/100\n",
      "63/63 [==============================] - ETA: 0s - loss: 4.2746e-04 - accuracy: 1.0000INFO:tensorflow:Assets written to: VGG16-transferlearning.model/assets\n",
      "63/63 [==============================] - 33s 519ms/step - loss: 4.2746e-04 - accuracy: 1.0000 - val_loss: 0.0801 - val_accuracy: 0.9360\n",
      "Epoch 57/100\n",
      "63/63 [==============================] - ETA: 0s - loss: 5.3078e-04 - accuracy: 0.9995INFO:tensorflow:Assets written to: VGG16-transferlearning.model/assets\n",
      "63/63 [==============================] - 33s 521ms/step - loss: 5.3078e-04 - accuracy: 0.9995 - val_loss: 0.0724 - val_accuracy: 0.9600\n",
      "Epoch 58/100\n",
      "63/63 [==============================] - ETA: 0s - loss: 2.4620e-04 - accuracy: 1.0000INFO:tensorflow:Assets written to: VGG16-transferlearning.model/assets\n",
      "63/63 [==============================] - 33s 520ms/step - loss: 2.4620e-04 - accuracy: 1.0000 - val_loss: 0.0770 - val_accuracy: 0.9400\n",
      "Epoch 59/100\n",
      "63/63 [==============================] - ETA: 0s - loss: 0.0278 - accuracy: 0.9795INFO:tensorflow:Assets written to: VGG16-transferlearning.model/assets\n",
      "63/63 [==============================] - 33s 522ms/step - loss: 0.0278 - accuracy: 0.9795 - val_loss: 0.0575 - val_accuracy: 0.9480\n",
      "Epoch 60/100\n",
      "63/63 [==============================] - ETA: 0s - loss: 0.0098 - accuracy: 0.9930INFO:tensorflow:Assets written to: VGG16-transferlearning.model/assets\n",
      "63/63 [==============================] - 33s 528ms/step - loss: 0.0098 - accuracy: 0.9930 - val_loss: 0.0556 - val_accuracy: 0.9500\n",
      "Epoch 61/100\n",
      "63/63 [==============================] - ETA: 0s - loss: 0.0029 - accuracy: 0.9980INFO:tensorflow:Assets written to: VGG16-transferlearning.model/assets\n",
      "63/63 [==============================] - 33s 522ms/step - loss: 0.0029 - accuracy: 0.9980 - val_loss: 0.0584 - val_accuracy: 0.9600\n",
      "Epoch 62/100\n",
      "63/63 [==============================] - ETA: 0s - loss: 0.0027 - accuracy: 0.9990INFO:tensorflow:Assets written to: VGG16-transferlearning.model/assets\n",
      "63/63 [==============================] - 33s 525ms/step - loss: 0.0027 - accuracy: 0.9990 - val_loss: 0.0517 - val_accuracy: 0.9640\n",
      "Epoch 63/100\n",
      "63/63 [==============================] - ETA: 0s - loss: 0.0012 - accuracy: 0.9995INFO:tensorflow:Assets written to: VGG16-transferlearning.model/assets\n",
      "63/63 [==============================] - 33s 525ms/step - loss: 0.0012 - accuracy: 0.9995 - val_loss: 0.0534 - val_accuracy: 0.9660\n",
      "Epoch 64/100\n",
      "63/63 [==============================] - ETA: 0s - loss: 7.3108e-04 - accuracy: 1.0000INFO:tensorflow:Assets written to: VGG16-transferlearning.model/assets\n",
      "63/63 [==============================] - 33s 527ms/step - loss: 7.3108e-04 - accuracy: 1.0000 - val_loss: 0.0585 - val_accuracy: 0.9540\n",
      "Epoch 65/100\n",
      "63/63 [==============================] - ETA: 0s - loss: 7.7030e-04 - accuracy: 0.9995INFO:tensorflow:Assets written to: VGG16-transferlearning.model/assets\n",
      "63/63 [==============================] - 33s 524ms/step - loss: 7.7030e-04 - accuracy: 0.9995 - val_loss: 0.0634 - val_accuracy: 0.9460\n",
      "Epoch 66/100\n",
      "63/63 [==============================] - ETA: 0s - loss: 4.7059e-04 - accuracy: 1.0000INFO:tensorflow:Assets written to: VGG16-transferlearning.model/assets\n",
      "63/63 [==============================] - 33s 522ms/step - loss: 4.7059e-04 - accuracy: 1.0000 - val_loss: 0.0607 - val_accuracy: 0.9500\n",
      "Epoch 67/100\n",
      "63/63 [==============================] - ETA: 0s - loss: 3.2259e-04 - accuracy: 1.0000INFO:tensorflow:Assets written to: VGG16-transferlearning.model/assets\n",
      "63/63 [==============================] - 33s 521ms/step - loss: 3.2259e-04 - accuracy: 1.0000 - val_loss: 0.0703 - val_accuracy: 0.9400\n",
      "Epoch 68/100\n",
      "63/63 [==============================] - ETA: 0s - loss: 4.8590e-04 - accuracy: 1.0000INFO:tensorflow:Assets written to: VGG16-transferlearning.model/assets\n",
      "63/63 [==============================] - 33s 521ms/step - loss: 4.8590e-04 - accuracy: 1.0000 - val_loss: 0.0637 - val_accuracy: 0.9440\n",
      "Epoch 69/100\n",
      "63/63 [==============================] - ETA: 0s - loss: 4.3878e-04 - accuracy: 1.0000INFO:tensorflow:Assets written to: VGG16-transferlearning.model/assets\n",
      "63/63 [==============================] - 33s 520ms/step - loss: 4.3878e-04 - accuracy: 1.0000 - val_loss: 0.0582 - val_accuracy: 0.9580\n",
      "Epoch 70/100\n",
      "63/63 [==============================] - ETA: 0s - loss: 1.7552e-04 - accuracy: 1.0000INFO:tensorflow:Assets written to: VGG16-transferlearning.model/assets\n",
      "63/63 [==============================] - 33s 526ms/step - loss: 1.7552e-04 - accuracy: 1.0000 - val_loss: 0.0595 - val_accuracy: 0.9480\n",
      "Epoch 71/100\n",
      "63/63 [==============================] - ETA: 0s - loss: 1.7598e-04 - accuracy: 1.0000INFO:tensorflow:Assets written to: VGG16-transferlearning.model/assets\n",
      "63/63 [==============================] - 33s 523ms/step - loss: 1.7598e-04 - accuracy: 1.0000 - val_loss: 0.0646 - val_accuracy: 0.9480\n",
      "Epoch 72/100\n",
      "63/63 [==============================] - ETA: 0s - loss: 2.4398e-04 - accuracy: 1.0000INFO:tensorflow:Assets written to: VGG16-transferlearning.model/assets\n",
      "63/63 [==============================] - 33s 522ms/step - loss: 2.4398e-04 - accuracy: 1.0000 - val_loss: 0.0643 - val_accuracy: 0.9540\n",
      "Epoch 73/100\n",
      "63/63 [==============================] - ETA: 0s - loss: 1.2028e-04 - accuracy: 1.0000INFO:tensorflow:Assets written to: VGG16-transferlearning.model/assets\n",
      "63/63 [==============================] - 33s 525ms/step - loss: 1.2028e-04 - accuracy: 1.0000 - val_loss: 0.0630 - val_accuracy: 0.9540\n",
      "Epoch 74/100\n",
      "63/63 [==============================] - ETA: 0s - loss: 2.4980e-04 - accuracy: 1.0000INFO:tensorflow:Assets written to: VGG16-transferlearning.model/assets\n",
      "63/63 [==============================] - 33s 522ms/step - loss: 2.4980e-04 - accuracy: 1.0000 - val_loss: 0.0621 - val_accuracy: 0.9580\n",
      "Epoch 75/100\n",
      "63/63 [==============================] - ETA: 0s - loss: 1.6151e-04 - accuracy: 1.0000INFO:tensorflow:Assets written to: VGG16-transferlearning.model/assets\n",
      "63/63 [==============================] - 33s 522ms/step - loss: 1.6151e-04 - accuracy: 1.0000 - val_loss: 0.0617 - val_accuracy: 0.9580\n",
      "Epoch 76/100\n",
      "63/63 [==============================] - ETA: 0s - loss: 1.2967e-04 - accuracy: 1.0000INFO:tensorflow:Assets written to: VGG16-transferlearning.model/assets\n",
      "63/63 [==============================] - 33s 518ms/step - loss: 1.2967e-04 - accuracy: 1.0000 - val_loss: 0.0670 - val_accuracy: 0.9480\n",
      "Epoch 77/100\n",
      "63/63 [==============================] - ETA: 0s - loss: 5.7975e-04 - accuracy: 0.9995INFO:tensorflow:Assets written to: VGG16-transferlearning.model/assets\n",
      "63/63 [==============================] - 33s 523ms/step - loss: 5.7975e-04 - accuracy: 0.9995 - val_loss: 0.0608 - val_accuracy: 0.9620\n",
      "Epoch 78/100\n",
      "63/63 [==============================] - ETA: 0s - loss: 0.0025 - accuracy: 0.9980INFO:tensorflow:Assets written to: VGG16-transferlearning.model/assets\n",
      "63/63 [==============================] - 33s 519ms/step - loss: 0.0025 - accuracy: 0.9980 - val_loss: 0.0827 - val_accuracy: 0.9380\n",
      "Epoch 79/100\n",
      "63/63 [==============================] - ETA: 0s - loss: 0.0031 - accuracy: 0.9975INFO:tensorflow:Assets written to: VGG16-transferlearning.model/assets\n",
      "63/63 [==============================] - 33s 523ms/step - loss: 0.0031 - accuracy: 0.9975 - val_loss: 0.0731 - val_accuracy: 0.9540\n",
      "Epoch 80/100\n",
      "63/63 [==============================] - ETA: 0s - loss: 7.7280e-04 - accuracy: 0.9995INFO:tensorflow:Assets written to: VGG16-transferlearning.model/assets\n",
      "63/63 [==============================] - 33s 520ms/step - loss: 7.7280e-04 - accuracy: 0.9995 - val_loss: 0.0679 - val_accuracy: 0.9620\n",
      "Epoch 81/100\n",
      "63/63 [==============================] - ETA: 0s - loss: 0.0011 - accuracy: 0.9990    INFO:tensorflow:Assets written to: VGG16-transferlearning.model/assets\n",
      "63/63 [==============================] - 33s 523ms/step - loss: 0.0011 - accuracy: 0.9990 - val_loss: 0.0709 - val_accuracy: 0.9500\n",
      "Epoch 82/100\n",
      "63/63 [==============================] - ETA: 0s - loss: 0.0016 - accuracy: 0.9985INFO:tensorflow:Assets written to: VGG16-transferlearning.model/assets\n",
      "63/63 [==============================] - 33s 522ms/step - loss: 0.0016 - accuracy: 0.9985 - val_loss: 0.0671 - val_accuracy: 0.9580\n",
      "Epoch 83/100\n",
      "63/63 [==============================] - ETA: 0s - loss: 4.5928e-04 - accuracy: 1.0000INFO:tensorflow:Assets written to: VGG16-transferlearning.model/assets\n",
      "63/63 [==============================] - 33s 523ms/step - loss: 4.5928e-04 - accuracy: 1.0000 - val_loss: 0.0734 - val_accuracy: 0.9580\n",
      "Epoch 84/100\n",
      "63/63 [==============================] - ETA: 0s - loss: 2.7299e-04 - accuracy: 1.0000INFO:tensorflow:Assets written to: VGG16-transferlearning.model/assets\n",
      "63/63 [==============================] - 33s 523ms/step - loss: 2.7299e-04 - accuracy: 1.0000 - val_loss: 0.0672 - val_accuracy: 0.9600\n",
      "Epoch 85/100\n",
      "63/63 [==============================] - ETA: 0s - loss: 1.9899e-04 - accuracy: 1.0000INFO:tensorflow:Assets written to: VGG16-transferlearning.model/assets\n",
      "63/63 [==============================] - 33s 520ms/step - loss: 1.9899e-04 - accuracy: 1.0000 - val_loss: 0.0713 - val_accuracy: 0.9640\n",
      "Epoch 86/100\n",
      "63/63 [==============================] - ETA: 0s - loss: 6.3544e-04 - accuracy: 0.9995INFO:tensorflow:Assets written to: VGG16-transferlearning.model/assets\n",
      "63/63 [==============================] - 33s 521ms/step - loss: 6.3544e-04 - accuracy: 0.9995 - val_loss: 0.0651 - val_accuracy: 0.9500\n",
      "Epoch 87/100\n",
      "63/63 [==============================] - ETA: 0s - loss: 2.5327e-04 - accuracy: 1.0000INFO:tensorflow:Assets written to: VGG16-transferlearning.model/assets\n",
      "63/63 [==============================] - 33s 521ms/step - loss: 2.5327e-04 - accuracy: 1.0000 - val_loss: 0.0631 - val_accuracy: 0.9620\n",
      "Epoch 88/100\n",
      "63/63 [==============================] - ETA: 0s - loss: 1.5362e-04 - accuracy: 1.0000INFO:tensorflow:Assets written to: VGG16-transferlearning.model/assets\n",
      "63/63 [==============================] - 33s 520ms/step - loss: 1.5362e-04 - accuracy: 1.0000 - val_loss: 0.0692 - val_accuracy: 0.9540\n",
      "Epoch 89/100\n",
      "63/63 [==============================] - ETA: 0s - loss: 9.3862e-05 - accuracy: 1.0000INFO:tensorflow:Assets written to: VGG16-transferlearning.model/assets\n",
      "63/63 [==============================] - 33s 519ms/step - loss: 9.3862e-05 - accuracy: 1.0000 - val_loss: 0.0647 - val_accuracy: 0.9560\n",
      "Epoch 90/100\n",
      "63/63 [==============================] - ETA: 0s - loss: 1.4574e-04 - accuracy: 1.0000INFO:tensorflow:Assets written to: VGG16-transferlearning.model/assets\n",
      "63/63 [==============================] - 33s 520ms/step - loss: 1.4574e-04 - accuracy: 1.0000 - val_loss: 0.0630 - val_accuracy: 0.9640\n",
      "Epoch 91/100\n",
      "63/63 [==============================] - ETA: 0s - loss: 1.8992e-04 - accuracy: 1.0000INFO:tensorflow:Assets written to: VGG16-transferlearning.model/assets\n",
      "63/63 [==============================] - 33s 521ms/step - loss: 1.8992e-04 - accuracy: 1.0000 - val_loss: 0.0643 - val_accuracy: 0.9600\n",
      "Epoch 92/100\n",
      "63/63 [==============================] - ETA: 0s - loss: 7.4657e-05 - accuracy: 1.0000INFO:tensorflow:Assets written to: VGG16-transferlearning.model/assets\n",
      "63/63 [==============================] - 33s 523ms/step - loss: 7.4657e-05 - accuracy: 1.0000 - val_loss: 0.0641 - val_accuracy: 0.9640\n",
      "Epoch 93/100\n",
      "63/63 [==============================] - ETA: 0s - loss: 7.2675e-05 - accuracy: 1.0000INFO:tensorflow:Assets written to: VGG16-transferlearning.model/assets\n",
      "63/63 [==============================] - 33s 518ms/step - loss: 7.2675e-05 - accuracy: 1.0000 - val_loss: 0.0658 - val_accuracy: 0.9620\n",
      "Epoch 94/100\n",
      "63/63 [==============================] - ETA: 0s - loss: 9.3278e-05 - accuracy: 1.0000INFO:tensorflow:Assets written to: VGG16-transferlearning.model/assets\n",
      "63/63 [==============================] - 33s 523ms/step - loss: 9.3278e-05 - accuracy: 1.0000 - val_loss: 0.0682 - val_accuracy: 0.9640\n",
      "Epoch 95/100\n",
      "63/63 [==============================] - ETA: 0s - loss: 6.6808e-05 - accuracy: 1.0000INFO:tensorflow:Assets written to: VGG16-transferlearning.model/assets\n",
      "63/63 [==============================] - 33s 521ms/step - loss: 6.6808e-05 - accuracy: 1.0000 - val_loss: 0.0686 - val_accuracy: 0.9620\n",
      "Epoch 96/100\n",
      "63/63 [==============================] - ETA: 0s - loss: 7.0139e-05 - accuracy: 1.0000INFO:tensorflow:Assets written to: VGG16-transferlearning.model/assets\n",
      "63/63 [==============================] - 33s 518ms/step - loss: 7.0139e-05 - accuracy: 1.0000 - val_loss: 0.0710 - val_accuracy: 0.9580\n",
      "Epoch 97/100\n",
      "63/63 [==============================] - ETA: 0s - loss: 1.1436e-04 - accuracy: 1.0000INFO:tensorflow:Assets written to: VGG16-transferlearning.model/assets\n",
      "63/63 [==============================] - 33s 518ms/step - loss: 1.1436e-04 - accuracy: 1.0000 - val_loss: 0.0682 - val_accuracy: 0.9620\n",
      "Epoch 98/100\n",
      "63/63 [==============================] - ETA: 0s - loss: 8.7066e-05 - accuracy: 1.0000INFO:tensorflow:Assets written to: VGG16-transferlearning.model/assets\n",
      "63/63 [==============================] - 33s 517ms/step - loss: 8.7066e-05 - accuracy: 1.0000 - val_loss: 0.0689 - val_accuracy: 0.9620\n",
      "Epoch 99/100\n",
      "63/63 [==============================] - ETA: 0s - loss: 4.8534e-05 - accuracy: 1.0000INFO:tensorflow:Assets written to: VGG16-transferlearning.model/assets\n",
      "63/63 [==============================] - 33s 520ms/step - loss: 4.8534e-05 - accuracy: 1.0000 - val_loss: 0.0704 - val_accuracy: 0.9600\n",
      "Epoch 100/100\n",
      "63/63 [==============================] - ETA: 0s - loss: 3.8515e-05 - accuracy: 1.0000INFO:tensorflow:Assets written to: VGG16-transferlearning.model/assets\n",
      "63/63 [==============================] - 33s 518ms/step - loss: 3.8515e-05 - accuracy: 1.0000 - val_loss: 0.0702 - val_accuracy: 0.9620\n"
     ]
    }
   ],
   "source": [
    "batch_size =32 \n",
    "epochs = 100  \n",
    "neural_ntwk1 = vgg16_model.fit_generator(\n",
    "                    train_data_gen.flow(x_train, y_train,batch_size=batch_size),\n",
    "                    ##steps_per_epoch= x_train.shape[0] // batch_size,\n",
    "                    epochs=epochs,\n",
    "                    validation_data=(x_test, y_test),\n",
    "                    callbacks=[ModelCheckpoint('VGG16-transferlearning.model',\n",
    "                               monitor='val_acc')])"
   ]
  },
  {
   "cell_type": "code",
   "execution_count": 11,
   "metadata": {
    "colab": {
     "base_uri": "https://localhost:8080/",
     "height": 35
    },
    "colab_type": "code",
    "id": "ntXv8EPXuLLV",
    "outputId": "bb043393-2575-4037-83c5-38aee1674578"
   },
   "outputs": [
    {
     "name": "stdout",
     "output_type": "stream",
     "text": [
      "CNN: Epochs=100, Train accuracy=1.00000, Validation accuracy=0.96200\n"
     ]
    }
   ],
   "source": [
    "# neural_ntwk1 using VGG16 and 100 epochs on Colab using GPU\n",
    "print(\"CNN: Epochs={0:d}, Train accuracy={1:.5f}, Validation accuracy={2:.5f}\".format(\n",
    "    epochs,neural_ntwk1.history['accuracy'][epochs-1],neural_ntwk1.history['val_accuracy'][epochs-1]))"
   ]
  },
  {
   "cell_type": "code",
   "execution_count": null,
   "metadata": {
    "colab": {},
    "colab_type": "code",
    "id": "awpojc4FuLLa"
   },
   "outputs": [],
   "source": [
    "# Visualization function"
   ]
  },
  {
   "cell_type": "code",
   "execution_count": 12,
   "metadata": {
    "colab": {},
    "colab_type": "code",
    "id": "jfnhE5VHuLLc"
   },
   "outputs": [],
   "source": [
    "def show_plots(history):\n",
    "    \"\"\" Useful function to view plot of loss values & accuracies across the various epochs \"\"\"\n",
    "    loss_vals = history['loss']\n",
    "    val_loss_vals = history['val_loss']\n",
    "    epochs = range(1, len(history['accuracy'])+1)\n",
    "    \n",
    "    f, ax = plt.subplots(nrows=1,ncols=2,figsize=(16,4))\n",
    "    \n",
    "    # plot losses on ax[0]\n",
    "    ax[0].plot(epochs, loss_vals, color='navy',marker='o', linestyle=' ', label='Training Loss')\n",
    "    ax[0].plot(epochs, val_loss_vals, color='firebrick', marker='*', label='Validation Loss')\n",
    "    ax[0].set_title('Training & Validation Loss')\n",
    "    ax[0].set_xlabel('Epochs')\n",
    "    ax[0].set_ylabel('Loss')\n",
    "    ax[0].legend(loc='best')\n",
    "    ax[0].grid(True)\n",
    "    \n",
    "    # plot accuracies\n",
    "    acc_vals = history['accuracy']\n",
    "    val_acc_vals = history['val_accuracy']\n",
    "\n",
    "    ax[1].plot(epochs, acc_vals, color='navy', marker='o', ls=' ', label='Training Accuracy')\n",
    "    ax[1].plot(epochs, val_acc_vals, color='firebrick', marker='*', label='Validation Accuracy')\n",
    "    ax[1].set_title('Training & Validation Accuracy')\n",
    "    ax[1].set_xlabel('Epochs')\n",
    "    ax[1].set_ylabel('Accuracy')\n",
    "    ax[1].legend(loc='best')\n",
    "    ax[1].grid(True)\n",
    "    \n",
    "    plt.show()\n",
    "    plt.close()\n",
    "    \n",
    "    # delete locals from heap before exiting\n",
    "    del loss_vals, val_loss_vals, epochs, acc_vals, val_acc_vals"
   ]
  },
  {
   "cell_type": "code",
   "execution_count": 13,
   "metadata": {
    "colab": {
     "base_uri": "https://localhost:8080/",
     "height": 295
    },
    "colab_type": "code",
    "id": "S2DY6CB5uLLg",
    "outputId": "09724a84-8791-4caa-b2fc-447b4a7f2a88"
   },
   "outputs": [
    {
     "data": {
      "image/png": "[encoded data removed]",
      "text/plain": [
       "<Figure size 1152x288 with 2 Axes>"
      ]
     },
     "metadata": {
      "needs_background": "light",
      "tags": []
     },
     "output_type": "display_data"
    }
   ],
   "source": [
    "# Visualize\n",
    "show_plots(neural_ntwk1.history)"
   ]
  },
  {
   "cell_type": "code",
   "execution_count": 18,
   "metadata": {
    "colab": {
     "base_uri": "https://localhost:8080/",
     "height": 35
    },
    "colab_type": "code",
    "id": "btHlPcQxuLLo",
    "outputId": "dda9f0a3-a8a4-4961-8572-c8ac26dbf4d4"
   },
   "outputs": [
    {
     "name": "stdout",
     "output_type": "stream",
     "text": [
      "Saved trained model at /content/drive/My Drive/dphi_bootcamp/model_vgg_transferLearning_GPU100epochs.h5 \n"
     ]
    }
   ],
   "source": [
    "# saving the model\n",
    "save_dir = \"/content/drive/My Drive/dphi_bootcamp/\"\n",
    "model_name = 'model_vgg_transferLearning_GPU100epochs.h5'\n",
    "model_path = save_dir + model_name\n",
    "vgg16_model.save(model_path)\n",
    "print('Saved trained model at %s ' % model_path)"
   ]
  },
  {
   "cell_type": "code",
   "execution_count": null,
   "metadata": {
    "colab": {},
    "colab_type": "code",
    "id": "Mm0uw8aX9KBw"
   },
   "outputs": [],
   "source": []
  }
 ],
 "metadata": {
  "accelerator": "GPU",
  "colab": {
   "collapsed_sections": [],
   "name": "Assignment2_Classifying5AnimalsUsingVGG16_ColabGPU.ipynb",
   "provenance": [],
   "toc_visible": true
  },
  "kernelspec": {
   "display_name": "Python 3",
   "language": "python",
   "name": "python3"
  },
  "language_info": {
   "codemirror_mode": {
    "name": "ipython",
    "version": 3
   },
   "file_extension": ".py",
   "mimetype": "text/x-python",
   "name": "python",
   "nbconvert_exporter": "python",
   "pygments_lexer": "ipython3",
   "version": "3.6.7"
  },
  "toc": {
   "base_numbering": 1,
   "nav_menu": {},
   "number_sections": true,
   "sideBar": true,
   "skip_h1_title": false,
   "title_cell": "Table of Contents",
   "title_sidebar": "Contents",
   "toc_cell": false,
   "toc_position": {},
   "toc_section_display": true,
   "toc_window_display": false
  }
 },
 "nbformat": 4,
 "nbformat_minor": 1
}
