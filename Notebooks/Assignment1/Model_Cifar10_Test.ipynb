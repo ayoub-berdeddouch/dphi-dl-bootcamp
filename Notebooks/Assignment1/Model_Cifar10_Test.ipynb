{
 "cells": [
  {
   "cell_type": "code",
   "execution_count": 23,
   "metadata": {
    "ExecuteTime": {
     "end_time": "2020-08-30T16:05:42.391948Z",
     "start_time": "2020-08-30T16:05:42.385950Z"
    }
   },
   "outputs": [],
   "source": [
    "import numpy as np\n",
    "import pandas as pd\n",
    "from tensorflow.keras.models import load_model"
   ]
  },
  {
   "cell_type": "code",
   "execution_count": 2,
   "metadata": {
    "ExecuteTime": {
     "end_time": "2020-08-30T15:46:44.845106Z",
     "start_time": "2020-08-30T15:46:02.481391Z"
    }
   },
   "outputs": [],
   "source": [
    "new_test_data = pd.read_csv(\"https://raw.githubusercontent.com/dphi-official/Datasets/master/cifar_image_flattened_pixels.csv\")"
   ]
  },
  {
   "cell_type": "code",
   "execution_count": 6,
   "metadata": {
    "ExecuteTime": {
     "end_time": "2020-08-30T15:47:08.097776Z",
     "start_time": "2020-08-30T15:47:08.060798Z"
    }
   },
   "outputs": [],
   "source": [
    "newtest_arr = np.array(new_test_data)"
   ]
  },
  {
   "cell_type": "code",
   "execution_count": 7,
   "metadata": {
    "ExecuteTime": {
     "end_time": "2020-08-30T15:47:09.887754Z",
     "start_time": "2020-08-30T15:47:09.882754Z"
    }
   },
   "outputs": [],
   "source": [
    "unflattentest = newtest_arr.reshape(2000,32,32,3)"
   ]
  },
  {
   "cell_type": "code",
   "execution_count": 8,
   "metadata": {
    "ExecuteTime": {
     "end_time": "2020-08-30T15:47:11.646743Z",
     "start_time": "2020-08-30T15:47:11.584778Z"
    }
   },
   "outputs": [],
   "source": [
    "unflattentest_norm = unflattentest/255"
   ]
  },
  {
   "cell_type": "code",
   "execution_count": 31,
   "metadata": {
    "ExecuteTime": {
     "end_time": "2020-08-30T16:09:23.403159Z",
     "start_time": "2020-08-30T16:09:22.314765Z"
    }
   },
   "outputs": [],
   "source": [
    "# load model\n",
    "model = load_model('keras_cifar10_trained_model_100epochs.h5')\n",
    "# given accuracy 78.05"
   ]
  },
  {
   "cell_type": "code",
   "execution_count": 32,
   "metadata": {
    "ExecuteTime": {
     "end_time": "2020-08-30T16:09:28.171428Z",
     "start_time": "2020-08-30T16:09:25.397020Z"
    }
   },
   "outputs": [],
   "source": [
    "target = model.predict(unflattentest_norm)"
   ]
  },
  {
   "cell_type": "code",
   "execution_count": 33,
   "metadata": {
    "ExecuteTime": {
     "end_time": "2020-08-30T16:09:28.852041Z",
     "start_time": "2020-08-30T16:09:28.830054Z"
    }
   },
   "outputs": [],
   "source": [
    "res = []\n",
    "for i in range(0,2000):\n",
    "    res.append(np.argmax(target[i]))"
   ]
  },
  {
   "cell_type": "code",
   "execution_count": 34,
   "metadata": {
    "ExecuteTime": {
     "end_time": "2020-08-30T16:09:29.820869Z",
     "start_time": "2020-08-30T16:09:29.816870Z"
    }
   },
   "outputs": [],
   "source": [
    "results = pd.DataFrame(res)"
   ]
  },
  {
   "cell_type": "code",
   "execution_count": 35,
   "metadata": {
    "ExecuteTime": {
     "end_time": "2020-08-30T16:09:31.170324Z",
     "start_time": "2020-08-30T16:09:31.167325Z"
    }
   },
   "outputs": [],
   "source": [
    "results.index = new_test_data.index"
   ]
  },
  {
   "cell_type": "code",
   "execution_count": 36,
   "metadata": {
    "ExecuteTime": {
     "end_time": "2020-08-30T16:09:32.320128Z",
     "start_time": "2020-08-30T16:09:32.316129Z"
    }
   },
   "outputs": [],
   "source": [
    "results.columns = ['class']"
   ]
  },
  {
   "cell_type": "code",
   "execution_count": 37,
   "metadata": {
    "ExecuteTime": {
     "end_time": "2020-08-30T16:09:42.409666Z",
     "start_time": "2020-08-30T16:09:42.400670Z"
    }
   },
   "outputs": [],
   "source": [
    "results.to_csv(\"predclas_trainedmodel.csv\",index=False)"
   ]
  },
  {
   "cell_type": "code",
   "execution_count": null,
   "metadata": {},
   "outputs": [],
   "source": []
  }
 ],
 "metadata": {
  "kernelspec": {
   "display_name": "Python 3",
   "language": "python",
   "name": "python3"
  },
  "language_info": {
   "codemirror_mode": {
    "name": "ipython",
    "version": 3
   },
   "file_extension": ".py",
   "mimetype": "text/x-python",
   "name": "python",
   "nbconvert_exporter": "python",
   "pygments_lexer": "ipython3",
   "version": "3.6.7"
  },
  "toc": {
   "base_numbering": 1,
   "nav_menu": {},
   "number_sections": true,
   "sideBar": true,
   "skip_h1_title": false,
   "title_cell": "Table of Contents",
   "title_sidebar": "Contents",
   "toc_cell": false,
   "toc_position": {},
   "toc_section_display": true,
   "toc_window_display": false
  }
 },
 "nbformat": 4,
 "nbformat_minor": 2
}
